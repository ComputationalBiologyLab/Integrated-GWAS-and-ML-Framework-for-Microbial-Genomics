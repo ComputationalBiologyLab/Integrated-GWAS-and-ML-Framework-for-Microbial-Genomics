{
  "cells": [
    {
      "cell_type": "markdown",
      "metadata": {},
      "source": [
        "# <center>**Code for Benjamini-Hochberg p-value adjustment & filtration of statistically-significant unitigs in GWAS output**<center>"
      ]
    },
    {
      "cell_type": "markdown",
      "metadata": {},
      "source": [
        "## Import Statements"
      ]
    },
    {
      "cell_type": "code",
      "execution_count": null,
      "metadata": {
        "id": "XijxA-Q22LD_"
      },
      "outputs": [],
      "source": [
        "import pandas as pd\n",
        "import scipy"
      ]
    },
    {
      "cell_type": "markdown",
      "metadata": {
        "id": "egvlGP8qjeZV"
      },
      "source": [
        "## Benjamini-Hochberg p-value adjustment"
      ]
    },
    {
      "cell_type": "code",
      "execution_count": null,
      "metadata": {
        "id": "pdGWzJsnjeZZ"
      },
      "outputs": [],
      "source": [
        "# Read Pyseer GWAS output file\n",
        "\n",
        "df = pd.read_csv(\"unitig_pyseer_lmm_output.tsv\",sep='\\t')"
      ]
    },
    {
      "cell_type": "code",
      "execution_count": null,
      "metadata": {
        "colab": {
          "base_uri": "https://localhost:8080/"
        },
        "id": "6MPXLC59jeZd",
        "outputId": "6bfbc7b5-ceac-4bcd-d992-c62c6405112c"
      },
      "outputs": [
        {
          "name": "stdout",
          "output_type": "stream",
          "text": [
            "1.46e-10\n",
            "1.0\n"
          ]
        }
      ],
      "source": [
        "# Check p-value ranges before adjustment\n",
        "\n",
        "print(df.loc[:,'lrt-pvalue'].min())\n",
        "print(df.loc[:,'lrt-pvalue'].max())"
      ]
    },
    {
      "cell_type": "code",
      "execution_count": null,
      "metadata": {
        "colab": {
          "base_uri": "https://localhost:8080/"
        },
        "id": "1WRgJdaGjeZg",
        "outputId": "064aa671-16d8-4bfe-f055-a08312c33bf6"
      },
      "outputs": [
        {
          "name": "stdout",
          "output_type": "stream",
          "text": [
            "1.07917944e-05\n",
            "1.0\n"
          ]
        }
      ],
      "source": [
        "# Perform BH adjustment\n",
        "\n",
        "adj_bh=scipy.stats.false_discovery_control(df.loc[:,\"lrt-pvalue\"])\n",
        "print(adj_bh.min())\n",
        "print(adj_bh.max())"
      ]
    },
    {
      "cell_type": "markdown",
      "metadata": {},
      "source": [
        "## Filtration of statistically-significant unitigs"
      ]
    },
    {
      "cell_type": "code",
      "execution_count": null,
      "metadata": {
        "colab": {
          "base_uri": "https://localhost:8080/"
        },
        "id": "fxvdnv97jeZj",
        "outputId": "607eb7a9-f5bb-465d-93ce-44b3716dc5db"
      },
      "outputs": [
        {
          "name": "stdout",
          "output_type": "stream",
          "text": [
            "(1370, 9)\n"
          ]
        }
      ],
      "source": [
        "# Filter output using adjusted BH p-value ≤ 0.05\n",
        "\n",
        "df[\"adj p-value\"]= adj_bh\n",
        "filtered_original_df=df[df[\"adj p-value\"] <= 0.05]\n",
        "print(filtered_original_df.shape)"
      ]
    },
    {
      "cell_type": "code",
      "execution_count": null,
      "metadata": {
        "id": "7g9E0P8LlBhF"
      },
      "outputs": [],
      "source": [
        "# Save statistically-significant hits after filtering by adjusted p-value\n",
        "\n",
        "filtered_original_df.to_csv(\"unitigs_pyseer_lmm_filtered_padj.tsv\", sep='\\t', header=True)"
      ]
    }
  ],
  "metadata": {
    "colab": {
      "provenance": []
    },
    "kernelspec": {
      "display_name": "Python 3",
      "name": "python3"
    }
  },
  "nbformat": 4,
  "nbformat_minor": 0
}
