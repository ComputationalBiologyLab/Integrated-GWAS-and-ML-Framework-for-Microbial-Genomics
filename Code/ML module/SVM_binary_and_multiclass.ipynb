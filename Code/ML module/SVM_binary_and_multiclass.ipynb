{
  "cells": [
    {
      "cell_type": "markdown",
      "metadata": {},
      "source": [
        "# <center>**Code for construction of SVM binary & multiclass classifiers**<center>"
      ]
    },
    {
      "cell_type": "markdown",
      "metadata": {},
      "source": [
        "# Import Statements"
      ]
    },
    {
      "cell_type": "code",
      "execution_count": null,
      "metadata": {
        "id": "F68bh3czlgpd"
      },
      "outputs": [],
      "source": [
        "import time\n",
        "import warnings\n",
        "import pandas as pd\n",
        "import numpy as np\n",
        "import matplotlib.pyplot as plt\n",
        "from sklearn import svm\n",
        "from imblearn.over_sampling import SMOTE\n",
        "from sklearn.model_selection import train_test_split, cross_val_score, GridSearchCV\n",
        "from sklearn.metrics import classification_report, ConfusionMatrixDisplay\n",
        "from sklearn.metrics import accuracy_score, precision_score, recall_score, f1_score, roc_auc_score, roc_curve, auc\n",
        "from sklearn.feature_selection import RFECV\n",
        "from sklearn.preprocessing import label_binarize"
      ]
    },
    {
      "cell_type": "markdown",
      "metadata": {
        "id": "I-i23eYolgpj"
      },
      "source": [
        "# Helper Functions"
      ]
    },
    {
      "cell_type": "markdown",
      "metadata": {
        "id": "QbcfkBEplinf"
      },
      "source": [
        "## Fetching inputs"
      ]
    },
    {
      "cell_type": "code",
      "execution_count": null,
      "metadata": {
        "id": "JDDMjwIklgpl"
      },
      "outputs": [],
      "source": [
        "# Function to fetch the gene presence/absence dataframe and append the binary labels\n",
        "\n",
        "def fetch_all_dataframe_and_labels():\n",
        "    df_all = pd.read_csv('gene_presence_absence.Rtab', sep='\\t', index_col=0)\n",
        "    df_all=df_all.tranpose()\n",
        "    \n",
        "    labels_all = pd.read_csv('biofilm_pheno_binary.tsv', sep='\\t', index_col=0)\n",
        "\n",
        "    exc_all=[idx for idx in df_all.index if idx not in labels_all.index]\n",
        "    df_all=df_all.drop(index=exc_all)\n",
        "\n",
        "    df_all['Label']=labels_all\n",
        "    labels_all=df_all.loc[:,'Label']\n",
        "\n",
        "    return df_all,labels_all"
      ]
    },
    {
      "cell_type": "code",
      "execution_count": null,
      "metadata": {
        "id": "StKuj_VY1HZO"
      },
      "outputs": [],
      "source": [
        "# Function to fetch the gene presence/absence dataframe and append the multiclass labels\n",
        "\n",
        "def fetch_all_df_and_multilabels():\n",
        "    df_all = pd.read_csv('gene_presence_absence.Rtab', sep='\\t', index_col=0)\n",
        "    df_all=df_all.tranpose()\n",
        "    \n",
        "    labels_all = pd.read_csv('biofilm_pheno_multi.tsv', sep='\\t', index_col=0)\n",
        "\n",
        "    exc_all=[idx for idx in df_all.index if idx not in labels_all.index]\n",
        "    df_all=df_all.drop(index=exc_all)\n",
        "\n",
        "    df_all['Label']=labels_all\n",
        "    labels_all=df_all.loc[:,'Label']\n",
        "\n",
        "    return df_all,labels_all"
      ]
    },
    {
      "cell_type": "markdown",
      "metadata": {
        "id": "cbzS_IuPlrDC"
      },
      "source": [
        "## Processing"
      ]
    },
    {
      "cell_type": "code",
      "execution_count": null,
      "metadata": {
        "id": "dWJcr55glgpw"
      },
      "outputs": [],
      "source": [
        "# Function to remove all hypothetical genes having prefix \"group_\"\n",
        "\n",
        "def remove_group_genes(df):\n",
        "    grp=[]\n",
        "    for gene in df.columns:\n",
        "        if gene.startswith('group_'):\n",
        "            grp.append(gene)\n",
        "\n",
        "    df=df.drop(columns=grp)\n",
        "\n",
        "    return df"
      ]
    },
    {
      "cell_type": "code",
      "execution_count": null,
      "metadata": {
        "id": "8gRVUSiUlgpw"
      },
      "outputs": [],
      "source": [
        "# Function to perform SMOTE oversampling\n",
        "\n",
        "def SMOTE_oversampling(df,labels):\n",
        "    smote = SMOTE(random_state=0)\n",
        "    df_res, labels_res = smote.fit_resample(df,labels)\n",
        "\n",
        "    return df_res, labels_res"
      ]
    },
    {
      "cell_type": "code",
      "execution_count": null,
      "metadata": {
        "id": "fh7H8q65lgpw"
      },
      "outputs": [],
      "source": [
        "# Function to prepare the training and testing dataframes & their corresponding labels\n",
        "\n",
        "def traintest_split(df, labels, train=0.7, test=0.3):\n",
        "    if 'Label' not in df.columns:\n",
        "        df=pd.concat([df,labels],axis=1)\n",
        "\n",
        "    train_df, test_df = train_test_split(df, train_size=train, test_size=test, random_state=0, stratify=df.loc[:,'Label'])\n",
        "    train_labels = train_df.loc[:,'Label']\n",
        "    test_labels = test_df.loc[:,'Label']\n",
        "\n",
        "    train_df = train_df.drop(labels='Label', axis=1)\n",
        "    test_df = test_df.drop(labels='Label', axis=1)\n",
        "\n",
        "    return train_df,test_df,train_labels,test_labels"
      ]
    },
    {
      "cell_type": "code",
      "execution_count": null,
      "metadata": {
        "id": "NvFd6AE0tSXR"
      },
      "outputs": [],
      "source": [
        "# Function to perform feature selection using Recursive Feature Elimination with Cross Validation\n",
        "\n",
        "def feature_selection_RFE(estimator,train_df, train_labels, step_size=1, scoring_metric='accuracy', threads=36):\n",
        "    if 'Label' in train_df.columns:\n",
        "        train_df=train_df.drop(columns=['Label'])\n",
        "\n",
        "    start_time = time.time()\n",
        "\n",
        "    selector = RFECV(estimator, step=step_size, cv=5, scoring=scoring_metric, n_jobs=threads)\n",
        "\n",
        "    feature_subset = selector.fit(train_df, train_labels)\n",
        "\n",
        "    end_time = time.time()\n",
        "    elapsed_time_minutes = (end_time - start_time) / 60\n",
        "\n",
        "    print(f'Time taken to perform RFE = {elapsed_time_minutes} minutes')\n",
        "\n",
        "    return feature_subset, selector.n_features_"
      ]
    },
    {
      "cell_type": "code",
      "execution_count": null,
      "metadata": {
        "id": "qK_d8RG5lgpx"
      },
      "outputs": [],
      "source": [
        "# Function to drop the features that were not chosen by RFECV from the training and testing dataframes\n",
        "\n",
        "def retain_selected_features(train_df,test_df,RFE_output):\n",
        "    bool_feature_subset=RFE_output.get_support()\n",
        "    features_to_drop_indices=[idx for idx in range(len(bool_feature_subset)) if bool_feature_subset[idx] == False]\n",
        "    features_to_drop=[train_df.columns[feature_idx] for feature_idx in features_to_drop_indices]\n",
        "    features_to_keep_indices=[idx for idx in range(len(bool_feature_subset)) if bool_feature_subset[idx] == True]\n",
        "    features_to_keep=[train_df.columns[feature_idx] for feature_idx in features_to_keep_indices]\n",
        "\n",
        "    train_df = train_df.drop(columns=features_to_drop)\n",
        "    test_df = test_df.drop(columns=features_to_drop)\n",
        "\n",
        "    return train_df, test_df, features_to_keep"
      ]
    },
    {
      "cell_type": "code",
      "execution_count": null,
      "metadata": {
        "id": "4y8ibiDhlgpx"
      },
      "outputs": [],
      "source": [
        "# Function to determine baseline classification scores before hyperparameter tuning\n",
        "\n",
        "def baseline_scores_SVM(train_df,train_labels):\n",
        "    labels=np.unique(train_labels)\n",
        "    if len(labels) == 2: # Binary classification\n",
        "      scores=['Accuracy', 'F1 score', 'ROC-AUC']\n",
        "      kernels = ['Linear', 'Poly', 'RBF', 'Sigmoid']\n",
        "      baseline_results = pd.DataFrame(columns=kernels,index=scores)\n",
        "\n",
        "      svm_estimator_linear = svm.SVC(random_state=0,  kernel='linear')\n",
        "      baseline_accuracy_linear = cross_val_score(svm_estimator_linear, train_df, train_labels, cv=5, scoring='accuracy')\n",
        "      baseline_f1_linear = cross_val_score(svm_estimator_linear, train_df, train_labels, cv=5, scoring='f1_weighted')\n",
        "      baseline_rocauc_linear = cross_val_score(svm_estimator_linear, train_df, train_labels, cv=5, scoring='roc_auc')\n",
        "\n",
        "      baseline_results['Linear']=[baseline_accuracy_linear.mean(), baseline_f1_linear.mean(), baseline_rocauc_linear.mean()]\n",
        "\n",
        "\n",
        "      # Initializing Polynomial (degree = 3) SVM classifier using default parameters as baseline\n",
        "      svm_estimator_poly = svm.SVC(random_state=0,  kernel='poly')\n",
        "      baseline_accuracy_poly = cross_val_score(svm_estimator_poly, train_df, train_labels, cv=5, scoring='accuracy')\n",
        "      baseline_f1_poly = cross_val_score(svm_estimator_poly, train_df, train_labels, cv=5, scoring='f1_weighted')\n",
        "      baseline_rocauc_poly = cross_val_score(svm_estimator_poly, train_df, train_labels, cv=5, scoring='roc_auc')\n",
        "\n",
        "      baseline_results['Poly']=[baseline_accuracy_poly.mean(), baseline_f1_poly.mean(), baseline_rocauc_poly.mean()]\n",
        "\n",
        "\n",
        "      # Initializing RBF SVM classifier using default parameters as baseline\n",
        "      svm_estimator_rbf = svm.SVC(random_state=0,  kernel='rbf')\n",
        "      baseline_accuracy_rbf = cross_val_score(svm_estimator_rbf, train_df, train_labels, cv=5, scoring='accuracy')\n",
        "      baseline_f1_rbf = cross_val_score(svm_estimator_rbf, train_df, train_labels, cv=5, scoring='f1_weighted')\n",
        "      baseline_rocauc_rbf = cross_val_score(svm_estimator_rbf, train_df, train_labels, cv=5, scoring='roc_auc')\n",
        "\n",
        "      baseline_results['RBF']=[baseline_accuracy_rbf.mean(), baseline_f1_rbf.mean(), baseline_rocauc_rbf.mean()]\n",
        "\n",
        "      # Initializing sigmoid SVM classifier using default parameters as baseline\n",
        "      svm_estimator_sigmoid = svm.SVC(random_state=0,  kernel='sigmoid')\n",
        "      baseline_accuracy_sigmoid = cross_val_score(svm_estimator_sigmoid, train_df, train_labels, cv=5, scoring='accuracy')\n",
        "      baseline_f1_sigmoid = cross_val_score(svm_estimator_sigmoid, train_df, train_labels, cv=5, scoring='f1_weighted')\n",
        "      baseline_rocauc_sigmoid = cross_val_score(svm_estimator_sigmoid, train_df, train_labels, cv=5, scoring='roc_auc')\n",
        "\n",
        "      baseline_results['Sigmoid']=[baseline_accuracy_sigmoid.mean(), baseline_f1_sigmoid.mean(), baseline_rocauc_sigmoid.mean()]\n",
        "\n",
        "    else: # Multiclass classification\n",
        "      scores=['Accuracy', 'F1 score']\n",
        "      kernels = ['Linear', 'Poly', 'RBF', 'Sigmoid']\n",
        "      baseline_results = pd.DataFrame(columns=kernels,index=scores)\n",
        "\n",
        "      svm_estimator_linear = svm.SVC(random_state=0,  kernel='linear')\n",
        "      baseline_accuracy_linear = cross_val_score(svm_estimator_linear, train_df, train_labels, cv=5, scoring='accuracy')\n",
        "      baseline_f1_linear = cross_val_score(svm_estimator_linear, train_df, train_labels, cv=5, scoring='f1_weighted')\n",
        "\n",
        "      baseline_results['Linear']=[baseline_accuracy_linear.mean(), baseline_f1_linear.mean()]\n",
        "\n",
        "\n",
        "      # Initializing Polynomial (degree = 3) SVM classifier using default parameters as baseline\n",
        "      svm_estimator_poly = svm.SVC(random_state=0,  kernel='poly')\n",
        "      baseline_accuracy_poly = cross_val_score(svm_estimator_poly, train_df, train_labels, cv=5, scoring='accuracy')\n",
        "      baseline_f1_poly = cross_val_score(svm_estimator_poly, train_df, train_labels, cv=5, scoring='f1_weighted')\n",
        "\n",
        "      baseline_results['Poly']=[baseline_accuracy_poly.mean(), baseline_f1_poly.mean()]\n",
        "\n",
        "\n",
        "      # Initializing RBF SVM classifier using default parameters as baseline\n",
        "      svm_estimator_rbf = svm.SVC(random_state=0,  kernel='rbf')\n",
        "      baseline_accuracy_rbf = cross_val_score(svm_estimator_rbf, train_df, train_labels, cv=5, scoring='accuracy')\n",
        "      baseline_f1_rbf = cross_val_score(svm_estimator_rbf, train_df, train_labels, cv=5, scoring='f1_weighted')\n",
        "\n",
        "      baseline_results['RBF']=[baseline_accuracy_rbf.mean(), baseline_f1_rbf.mean()]\n",
        "\n",
        "      # Initializing sigmoid SVM classifier using default parameters as baseline\n",
        "      svm_estimator_sigmoid = svm.SVC(random_state=0,  kernel='sigmoid')\n",
        "      baseline_accuracy_sigmoid = cross_val_score(svm_estimator_sigmoid, train_df, train_labels, cv=5, scoring='accuracy')\n",
        "      baseline_f1_sigmoid = cross_val_score(svm_estimator_sigmoid, train_df, train_labels, cv=5, scoring='f1_weighted')\n",
        "\n",
        "      baseline_results['Sigmoid']=[baseline_accuracy_sigmoid.mean(), baseline_f1_sigmoid.mean()]\n",
        "\n",
        "    baseline_results = baseline_results.transpose()\n",
        "\n",
        "    return baseline_results"
      ]
    },
    {
      "cell_type": "code",
      "execution_count": null,
      "metadata": {
        "id": "mHIfBTW0lgpy"
      },
      "outputs": [],
      "source": [
        "# Function to perform hyperparameter tuning using GridSearchCV\n",
        "\n",
        "def hyperparameter_tuning(estimator, param_grid, train_df,train_labels):\n",
        "    grid_search = GridSearchCV(estimator, param_grid, cv=5, scoring='accuracy', n_jobs=36)\n",
        "    grid_search.fit(train_df, train_labels)\n",
        "\n",
        "    grid_results_df=pd.DataFrame(grid_search.cv_results_)[['mean_test_score', 'std_test_score', 'params']]\n",
        "    best_params_grid = grid_search.best_params_\n",
        "    best_model_grid = grid_search.best_estimator_\n",
        "\n",
        "    return best_params_grid, best_model_grid"
      ]
    },
    {
      "cell_type": "code",
      "execution_count": null,
      "metadata": {
        "id": "jpxfeIn2lgpy"
      },
      "outputs": [],
      "source": [
        "# Function to determine classification scores after hyperparameter tuning\n",
        "\n",
        "def tuned_scores(best_model_grid, train_df, train_labels):\n",
        "    warnings.filterwarnings('ignore')\n",
        "\n",
        "    cv_accuracy_tuned = cross_val_score(best_model_grid, train_df, train_labels, cv=5, scoring='accuracy')\n",
        "    cv_f1_tuned = cross_val_score(best_model_grid, train_df, train_labels, cv=5, scoring='f1_weighted')\n",
        "    cv_roc_auc_tuned = cross_val_score(best_model_grid, train_df, train_labels, cv=5, scoring='roc_auc')\n",
        "\n",
        "    return cv_accuracy_tuned, cv_f1_tuned, cv_roc_auc_tuned"
      ]
    },
    {
      "cell_type": "code",
      "execution_count": null,
      "metadata": {
        "id": "s8FKDlROlgpy"
      },
      "outputs": [],
      "source": [
        "# Function to test the model on the testing data\n",
        "\n",
        "def testing(model, test_df, test_labels):\n",
        "    model_predictions = model.predict(test_df)\n",
        "\n",
        "    print(classification_report(test_labels, model_predictions))\n",
        "\n",
        "    disp = ConfusionMatrixDisplay.from_predictions(test_labels, model_predictions, labels=model.classes_, cmap='Blues')"
      ]
    },
    {
      "cell_type": "code",
      "execution_count": null,
      "metadata": {
        "id": "qhw2aiwi1HZU"
      },
      "outputs": [],
      "source": [
        "# Function to evaluate binary classifier performance using various metrics (accuracy, precision, recall, f1, roc_auc)\n",
        "\n",
        "def binary_classifier_scores(best_model, test_df, test_labels):\n",
        "    y_pred=best_model.predict(test_df)\n",
        "    y_prob=best_model.predict_proba(test_df)[:, 1]\n",
        "\n",
        "    accuracy = accuracy_score(test_labels, y_pred)\n",
        "    precision = precision_score(test_labels, y_pred)\n",
        "    recall = recall_score(test_labels, y_pred)\n",
        "    f1 = f1_score(test_labels, y_pred)\n",
        "    roc_auc = roc_auc_score(test_labels, y_prob)\n",
        "\n",
        "    return(accuracy,precision,recall,f1,roc_auc)"
      ]
    },
    {
      "cell_type": "code",
      "execution_count": null,
      "metadata": {
        "id": "kYOhXWpZ1HZU"
      },
      "outputs": [],
      "source": [
        "# Function to plot the ROC curve for the binary classifier\n",
        "\n",
        "def plot_binary_roc_curve(best_model, test_df, test_labels):\n",
        "    y_pred=best_model.predict(test_df)\n",
        "    y_prob=best_model.predict_proba(test_df)[:, 1]\n",
        "    fpr, tpr, thresholds = roc_curve(test_labels, y_prob)\n",
        "\n",
        "    roc_auc = auc(fpr, tpr)\n",
        "\n",
        "    plt.figure(figsize=(8, 6))\n",
        "    plt.plot(fpr, tpr, color='b', lw=2, label=f'ROC curve (AUC = {roc_auc:.4f})')\n",
        "    plt.plot([0, 1], [0, 1], color='gray', linestyle='--')\n",
        "    plt.xlim([0.0, 1.0])\n",
        "    plt.ylim([0.0, 1.05])\n",
        "    plt.xlabel('False Positive Rate')\n",
        "    plt.ylabel('True Positive Rate')\n",
        "    plt.title('Receiver Operating Characteristic (ROC) Curve')\n",
        "    plt.legend(loc='lower right')\n",
        "    plt.grid(True)\n",
        "    plt.show()"
      ]
    },
    {
      "cell_type": "code",
      "execution_count": null,
      "metadata": {
        "id": "Mn9NE8WD1HZU"
      },
      "outputs": [],
      "source": [
        "# Function to evaluate multiclass classifier performance using various metrics (accuracy, precision, recall, f1, roc_auc)\n",
        "\n",
        "def multiclass_classifier_scores(best_model, test_df, test_labels):\n",
        "    y_pred = best_model.predict(test_df)\n",
        "    y_prob = best_model.predict_proba(test_df)\n",
        "\n",
        "    accuracy = accuracy_score(test_labels, y_pred)\n",
        "\n",
        "    # Precision, Recall, F1 - using 'macro' average for multi-class\n",
        "    precision = precision_score(test_labels, y_pred, average='macro')\n",
        "    recall = recall_score(test_labels, y_pred, average='macro')\n",
        "    f1 = f1_score(test_labels, y_pred, average='macro')\n",
        "\n",
        "    y_test_bin = label_binarize(test_labels, classes=[0, 1, 2, 3])\n",
        "    roc_auc = roc_auc_score(y_test_bin, y_prob, average='macro', multi_class='ovr')\n",
        "\n",
        "    return accuracy, precision, recall, f1, roc_auc"
      ]
    },
    {
      "cell_type": "code",
      "execution_count": null,
      "metadata": {
        "id": "kKoJeqRc1HZV"
      },
      "outputs": [],
      "source": [
        "# Function to plot the ROC curve for the multiclass classifier\n",
        "\n",
        "def plot_multiclass_roc_curve(best_model, test_df, test_labels):\n",
        "    y_pred = best_model.predict(test_df)\n",
        "    y_prob = best_model.predict_proba(test_df)\n",
        "\n",
        "    y_test_bin = label_binarize(test_labels, classes=[0, 1, 2, 3])\n",
        "\n",
        "    n_classes = y_test_bin.shape[1]\n",
        "    fpr = dict()\n",
        "    tpr = dict()\n",
        "    roc_auc = dict()\n",
        "\n",
        "    for i in range(n_classes):\n",
        "        fpr[i], tpr[i], _ = roc_curve(y_test_bin[:, i], y_prob[:, i])\n",
        "        roc_auc[i] = auc(fpr[i], tpr[i])\n",
        "\n",
        "    plt.figure(figsize=(8, 6))\n",
        "    for i in range(n_classes):\n",
        "        plt.plot(fpr[i], tpr[i], lw=2, label=f'Class {i} (AUC = {roc_auc[i]:.4f})')\n",
        "\n",
        "    plt.plot([0, 1], [0, 1], color='gray', linestyle='--')\n",
        "    plt.xlim([0.0, 1.0])\n",
        "    plt.ylim([0.0, 1.05])\n",
        "    plt.xlabel('False Positive Rate')\n",
        "    plt.ylabel('True Positive Rate')\n",
        "    plt.title('Receiver Operating Characteristic (ROC) Curve for Multi-Class')\n",
        "    plt.legend(loc='lower right')\n",
        "    plt.grid(True)\n",
        "    plt.show()\n"
      ]
    },
    {
      "cell_type": "markdown",
      "metadata": {
        "id": "q9TWyNzKoBZV"
      },
      "source": [
        "# Main Code"
      ]
    },
    {
      "cell_type": "markdown",
      "metadata": {
        "id": "eYtaC83Glgp9"
      },
      "source": [
        "## Binary classifier"
      ]
    },
    {
      "cell_type": "code",
      "execution_count": null,
      "metadata": {
        "id": "Zhnh7UMklgqG",
        "outputId": "202a791c-78b1-4046-c8b9-eeb018216f83"
      },
      "outputs": [
        {
          "name": "stdout",
          "output_type": "stream",
          "text": [
            "       rpmJ  rpsJ  rplB  rpmE2  rpsG  rplO  rpsF  rplP  rplN  atpE  ...  \\\n",
            "AA1       1     1     1      1     1     1     1     1     1     1  ...   \n",
            "AA100     1     1     1      1     1     1     1     1     1     1  ...   \n",
            "AA102     1     1     1      1     1     1     1     1     1     1  ...   \n",
            "AA103     1     1     1      1     1     1     1     1     1     1  ...   \n",
            "AA11      1     1     1      1     1     1     1     1     1     1  ...   \n",
            "\n",
            "       group_9986  group_9987  group_9990  group_9992  group_9994  group_9996  \\\n",
            "AA1             0           0           0           0           0           0   \n",
            "AA100           0           0           0           0           0           0   \n",
            "AA102           0           0           0           0           0           0   \n",
            "AA103           0           0           0           0           0           0   \n",
            "AA11            0           0           0           0           0           0   \n",
            "\n",
            "       group_9997  ydjI  group_9999  Label  \n",
            "AA1             0     0           0      1  \n",
            "AA100           0     0           0      1  \n",
            "AA102           0     0           0      1  \n",
            "AA103           0     0           0      1  \n",
            "AA11            0     0           0      0  \n",
            "\n",
            "[5 rows x 11261 columns]\n",
            "(178, 11261)\n",
            "(178,)\n"
          ]
        }
      ],
      "source": [
        "# Fetching the gene presence/absence dataframe with binary labels\n",
        "\n",
        "df_all,labels_all=fetch_all_dataframe_and_labels()\n",
        "\n",
        "print(df_all.head())\n",
        "print(df_all.shape)\n",
        "print(labels_all.shape)"
      ]
    },
    {
      "cell_type": "code",
      "execution_count": null,
      "metadata": {
        "id": "vyZ773BylgqG",
        "outputId": "fc00b533-90f5-444f-9ce8-4a16a6cbf877"
      },
      "outputs": [
        {
          "name": "stdout",
          "output_type": "stream",
          "text": [
            "       rpmJ  rpsJ  rplB  rpmE2  rpsG  rplO  rpsF  rplP  rplN  atpE  ...  \\\n",
            "AA1       1     1     1      1     1     1     1     1     1     1  ...   \n",
            "AA100     1     1     1      1     1     1     1     1     1     1  ...   \n",
            "AA102     1     1     1      1     1     1     1     1     1     1  ...   \n",
            "AA103     1     1     1      1     1     1     1     1     1     1  ...   \n",
            "AA11      1     1     1      1     1     1     1     1     1     1  ...   \n",
            "\n",
            "       splD_1  cysC  eutB  lepB  flgE  purA_2  greA_2  pdp_2  ydjI  Label  \n",
            "AA1         0     0     0     0     0       0       0      0     0      1  \n",
            "AA100       0     0     0     0     0       0       0      0     0      1  \n",
            "AA102       0     0     0     0     0       0       0      0     0      1  \n",
            "AA103       0     0     0     0     0       0       0      0     0      1  \n",
            "AA11        0     0     0     0     0       0       0      0     0      0  \n",
            "\n",
            "[5 rows x 2570 columns]\n",
            "(178, 2570)\n"
          ]
        }
      ],
      "source": [
        "# Removing all hypothetical genes having prefix \"group_\"\n",
        "\n",
        "df_all=remove_group_genes(df_all)\n",
        "print(df_all.head())\n",
        "print(df_all.shape)"
      ]
    },
    {
      "cell_type": "code",
      "execution_count": null,
      "metadata": {
        "id": "gFzktlC_lgqH",
        "outputId": "f2621644-5c58-4601-b591-b6bcfd1bb0a9"
      },
      "outputs": [
        {
          "name": "stdout",
          "output_type": "stream",
          "text": [
            "Class Distribution After RandomOverSampler:\n",
            "Label\n",
            "1    127\n",
            "0    127\n",
            "Name: count, dtype: int64\n"
          ]
        }
      ],
      "source": [
        "# Performing SMOTE oversampling of the minor class to the majority class\n",
        "\n",
        "df_all_res,labels_all_res=SMOTE_oversampling(df_all,labels_all)\n",
        "\n",
        "class_counts_resampled = pd.Series(labels_all_res).value_counts()\n",
        "print(f\"Class Distribution After RandomOverSampler:\\n{class_counts_resampled}\")"
      ]
    },
    {
      "cell_type": "code",
      "execution_count": null,
      "metadata": {
        "id": "G1bYLrOflgqH",
        "outputId": "132bede8-3db9-4688-e661-e7321bb9b17b"
      },
      "outputs": [
        {
          "name": "stdout",
          "output_type": "stream",
          "text": [
            "Number of samples within each class:\t\t\t\t\t  (array([0, 1], dtype=int64), array([127, 127], dtype=int64))\n",
            "Number of samples within each class in training dataframe (stratified):\t  (array([0, 1], dtype=int64), array([88, 89], dtype=int64))\n",
            "Number of samples within each class in testing dataframe (stratified):\t  (array([0, 1], dtype=int64), array([39, 38], dtype=int64))\n"
          ]
        }
      ],
      "source": [
        "# Preparing the training and testing dataframes\n",
        "\n",
        "train_df,test_df,train_labels,test_labels=traintest_split(df_all_res,labels_all_res)\n",
        "print('Number of samples within each class:\\t\\t\\t\\t\\t ' , np.unique(labels_all_res, return_counts=True))\n",
        "print('Number of samples within each class in training dataframe (stratified):\\t ' , np.unique(train_labels, return_counts=True))\n",
        "print('Number of samples within each class in testing dataframe (stratified):\\t ', np.unique(test_labels, return_counts=True))"
      ]
    },
    {
      "cell_type": "code",
      "execution_count": null,
      "metadata": {
        "id": "r88NojxClgqH",
        "outputId": "d424c1fe-ee6e-4136-9afa-40e1cee2d87c"
      },
      "outputs": [
        {
          "name": "stdout",
          "output_type": "stream",
          "text": [
            "Time taken to perform RFE = 1.537733288606008 minutes\n",
            "Number of features selected = 150\n"
          ]
        }
      ],
      "source": [
        "# Performing feature selection using Recursive Feature Elimination with Cross Validation\n",
        "\n",
        "svm_estimator = svm.SVC(kernel='linear',random_state = 0)\n",
        "selected_features,num_features=feature_selection_RFE(svm_estimator,train_df,train_labels)\n",
        "print('Number of features selected =',num_features)"
      ]
    },
    {
      "cell_type": "code",
      "execution_count": null,
      "metadata": {
        "id": "f1EraYAUlgqI",
        "outputId": "f64ba49b-2ff5-4d3d-e014-007f5e2eb42a"
      },
      "outputs": [
        {
          "name": "stdout",
          "output_type": "stream",
          "text": [
            "(177, 150)\n",
            "(77, 150)\n",
            "['cdaA', 'flp', 'acsA_2', 'garK_2', 'menF', 'mgt', 'bioF', 'graR_1', 'ydjZ', 'dacA', 'ugpQ', 'fdhD', 'adh', 'tarL', 'spsB_1', 'orr', 'nudF', 'yfcJ', 'plsY', 'clpB', 'oppF_1', 'murB', 'comEA', 'lysP_2', 'dapE', 'ypjD', 'menH_2', 'treP_2', 'ybbH_3', 'femA_1', 'nixA', 'nikD', 'murJ', 'deoC2', 'tagX', 'ppaC', 'rpsT', 'apt', 'ftsH', 'azoR', 'dgk', 'addB', 'oppD_1', 'der_1', 'purC', 'cynR', 'kdpA', 'cls_1', 'ftsK', 'mutY', 'guaC', 'hld', 'uvrC', 'deoC1', 'hlb_2', 'rhaS_2', 'queE_1', 'odhA', 'opuD_3', 'vraS', 'plc', 'sdrM', 'sarX', 'kimA', 'tkt', 'gph', 'thyA', 'dnaE', 'isdB', 'trmK', 'sdrE', 'potB', 'malP', 'yfkN', 'nucH', 'lnrL_3', 'nikA', 'putP', 'coiA', 'sarU', 'sauU', 'rhaR', 'lolD_1', 'tal', 'bcrR', 'pre_1', 'pre_2', 'clfA', 'aphA', 'hly', 'hlgC_2', 'essG_1', 'splC', 'ggt', 'tet(K)', 'arsC', 'fhuD_2', 'ssl1', 'ecfT', 'norB_4', 'splF', 'sasG', 'satA', 'macB', 'sdrC', 'lukDv_1', 'agrB', 'aadK', 'emp', 'ebh_1', 'licR', 'nisB', 'fnbA', 'cof_1', 'aacA-aphD', 'splE', 'hsdM_1', 'cadA', 'cna', 'essG_4', \"ermC'\", 'xerC_6', 'bceB_2', 'ssbA_4', 'yoaA', 'cdnE', 'icaC_2', 'dppB', 'hhaIM', 'sau3AIR', 'splD', 'yfmC_2', 'xerC_5', 'lytO', 'bin3_1', 'ssl3_2', 'entG', 'lpl2_7', 'repD', 'ycjY', 'pre', 'xerD_3', 'mcrB', 'entA', 'thyA_2', 'lpl2_5', 'tst', 'tsaC', 'entC2', 'adk_2']\n"
          ]
        }
      ],
      "source": [
        "# Retaining the selected features in the training and testing dataframes\n",
        "\n",
        "train_df,test_df,features_to_keep = retain_selected_features(train_df,test_df,selected_features)\n",
        "\n",
        "print(train_df.shape)\n",
        "print(test_df.shape)\n",
        "print(features_to_keep)"
      ]
    },
    {
      "cell_type": "code",
      "execution_count": null,
      "metadata": {
        "id": "gVbSrJoulgqI",
        "outputId": "42e2fa30-9440-4e3b-957f-12ce22286aac"
      },
      "outputs": [
        {
          "name": "stdout",
          "output_type": "stream",
          "text": [
            "         Accuracy  F1 score   ROC-AUC\n",
            "Linear   0.994286  0.994276  1.000000\n",
            "Poly     0.948730  0.948651  0.992229\n",
            "RBF      0.932063  0.931884  0.992338\n",
            "Sigmoid  0.763016  0.748666  0.954248\n"
          ]
        }
      ],
      "source": [
        "# Determining baseline classification scores before hyperparameter tuning\n",
        "\n",
        "baseline_scores=baseline_scores_SVM(train_df,train_labels)\n",
        "print(baseline_scores)"
      ]
    },
    {
      "cell_type": "code",
      "execution_count": null,
      "metadata": {
        "id": "SK0J2fhklgqI",
        "outputId": "9c7d22e2-0968-485b-cbb9-f00282dd95d8"
      },
      "outputs": [
        {
          "name": "stdout",
          "output_type": "stream",
          "text": [
            "Best parameters chosen by grid search:  {'C': 0.1, 'degree': 3, 'gamma': 'scale', 'kernel': 'linear'}\n",
            "\n",
            "Having an average ACCURACY 0.9942857142857143\n",
            "\t\t  F1 SCORE 0.9942763542763544\n",
            "\t\t  ROC AUC  1.0\n"
          ]
        }
      ],
      "source": [
        "# Performing hyperparameter tuning using GridSearchCV\n",
        "\n",
        "param_grid = {\n",
        "    'C': [0.01,0.1,1,10,100],\n",
        "    'kernel':['linear','poly', 'rbf', 'sigmoid'],\n",
        "    'degree':range(3,7,1),\n",
        "    'gamma': ['scale','auto'],\n",
        "}\n",
        "\n",
        "estimator=svm.SVC(random_state=0,probability=True)\n",
        "best_params,best_model=hyperparameter_tuning(estimator,param_grid,train_df,train_labels)\n",
        "\n",
        "print('Best parameters chosen by grid search: ', best_params)\n",
        "\n",
        "accuracies,f1_scores,roc_aucs = tuned_scores(best_model,train_df,train_labels)\n",
        "print(f'\\nHaving an average ACCURACY {accuracies.mean()}\\n\\t\\t  F1 SCORE {f1_scores.mean()}\\n\\t\\t  ROC AUC  {roc_aucs.mean()}')"
      ]
    },
    {
      "cell_type": "code",
      "execution_count": null,
      "metadata": {
        "id": "09Atg9UelgqJ",
        "outputId": "49b698db-7d6f-4ef8-a1e3-b74e6cb62334"
      },
      "outputs": [
        {
          "name": "stdout",
          "output_type": "stream",
          "text": [
            "              precision    recall  f1-score   support\n",
            "\n",
            "           0       0.69      0.79      0.74        39\n",
            "           1       0.75      0.63      0.69        38\n",
            "\n",
            "    accuracy                           0.71        77\n",
            "   macro avg       0.72      0.71      0.71        77\n",
            "weighted avg       0.72      0.71      0.71        77\n",
            "\n"
          ]
        },
        {
          "data": {
            "image/png": "[encoded data removed]",
            "text/plain": [
              "<Figure size 640x480 with 2 Axes>"
            ]
          },
          "metadata": {},
          "output_type": "display_data"
        }
      ],
      "source": [
        "# Testing the tuned binary classifier on testing data\n",
        "\n",
        "testing(best_model,test_df,test_labels)"
      ]
    },
    {
      "cell_type": "code",
      "execution_count": null,
      "metadata": {
        "id": "DAP41hGf1HZo",
        "outputId": "2da2270f-278c-4bd8-8482-8da0a24fe4f5"
      },
      "outputs": [
        {
          "name": "stdout",
          "output_type": "stream",
          "text": [
            "Accuracy:       0.7142857142857143\n",
            "Precision:      0.75\n",
            "Recall:         0.631578947368421\n",
            "F1 Score:       0.6857142857142857\n",
            "ROC-AUC Score:  0.873144399460189\n",
            "\n"
          ]
        },
        {
          "data": {
            "image/png": "[encoded data removed]",
            "text/plain": [
              "<Figure size 800x600 with 1 Axes>"
            ]
          },
          "metadata": {},
          "output_type": "display_data"
        }
      ],
      "source": [
        "# Evaluating the binary classifier performance using various metrics & plotting the ROC curve\n",
        "\n",
        "accuracy,precision,recall,f1,roc_auc=binary_classifier_scores(best_model,test_df,test_labels)\n",
        "\n",
        "print(f'Accuracy:       {accuracy}')\n",
        "print(f'Precision:      {precision}')\n",
        "print(f'Recall:         {recall}')\n",
        "print(f'F1 Score:       {f1}')\n",
        "print(f'ROC-AUC Score:  {roc_auc}\\n')\n",
        "\n",
        "plot_binary_roc_curve(best_model,test_df,test_labels)\n"
      ]
    },
    {
      "cell_type": "markdown",
      "metadata": {
        "id": "jY-xtzIL1HZo"
      },
      "source": [
        "## Multiclass classifier"
      ]
    },
    {
      "cell_type": "code",
      "execution_count": null,
      "metadata": {
        "id": "xBuX_aFD1HZo",
        "outputId": "bf2a36ed-092a-4937-8200-68c5bec8de37"
      },
      "outputs": [
        {
          "name": "stdout",
          "output_type": "stream",
          "text": [
            "       rpmJ  rpsJ  rplB  rpmE2  rpsG  rplO  rpsF  rplP  rplN  atpE  ...  \\\n",
            "AA1       1     1     1      1     1     1     1     1     1     1  ...   \n",
            "AA100     1     1     1      1     1     1     1     1     1     1  ...   \n",
            "AA102     1     1     1      1     1     1     1     1     1     1  ...   \n",
            "AA103     1     1     1      1     1     1     1     1     1     1  ...   \n",
            "AA11      1     1     1      1     1     1     1     1     1     1  ...   \n",
            "\n",
            "       group_9986  group_9987  group_9990  group_9992  group_9994  group_9996  \\\n",
            "AA1             0           0           0           0           0           0   \n",
            "AA100           0           0           0           0           0           0   \n",
            "AA102           0           0           0           0           0           0   \n",
            "AA103           0           0           0           0           0           0   \n",
            "AA11            0           0           0           0           0           0   \n",
            "\n",
            "       group_9997  ydjI  group_9999  Label  \n",
            "AA1             0     0           0      3  \n",
            "AA100           0     0           0      3  \n",
            "AA102           0     0           0      3  \n",
            "AA103           0     0           0      2  \n",
            "AA11            0     0           0      1  \n",
            "\n",
            "[5 rows x 11261 columns]\n",
            "(178, 11261)\n",
            "(178,)\n"
          ]
        }
      ],
      "source": [
        "# Fetching the gene presence/absence dataframe with multiclass labels\n",
        "\n",
        "df_all,labels_all=fetch_all_df_and_multilabels()\n",
        "\n",
        "print(df_all.head())\n",
        "print(df_all.shape)\n",
        "print(labels_all.shape)"
      ]
    },
    {
      "cell_type": "code",
      "execution_count": null,
      "metadata": {
        "id": "PdSO7qWK1HZo",
        "outputId": "6f210f85-d81d-487e-b9bc-994c87c8e272"
      },
      "outputs": [
        {
          "name": "stdout",
          "output_type": "stream",
          "text": [
            "       rpmJ  rpsJ  rplB  rpmE2  rpsG  rplO  rpsF  rplP  rplN  atpE  ...  \\\n",
            "AA1       1     1     1      1     1     1     1     1     1     1  ...   \n",
            "AA100     1     1     1      1     1     1     1     1     1     1  ...   \n",
            "AA102     1     1     1      1     1     1     1     1     1     1  ...   \n",
            "AA103     1     1     1      1     1     1     1     1     1     1  ...   \n",
            "AA11      1     1     1      1     1     1     1     1     1     1  ...   \n",
            "\n",
            "       splD_1  cysC  eutB  lepB  flgE  purA_2  greA_2  pdp_2  ydjI  Label  \n",
            "AA1         0     0     0     0     0       0       0      0     0      3  \n",
            "AA100       0     0     0     0     0       0       0      0     0      3  \n",
            "AA102       0     0     0     0     0       0       0      0     0      3  \n",
            "AA103       0     0     0     0     0       0       0      0     0      2  \n",
            "AA11        0     0     0     0     0       0       0      0     0      1  \n",
            "\n",
            "[5 rows x 2570 columns]\n",
            "(178, 2570)\n"
          ]
        }
      ],
      "source": [
        "# Removing all hypothetical genes having prefix \"group_\"\n",
        "\n",
        "df_all=remove_group_genes(df_all)\n",
        "print(df_all.head())\n",
        "print(df_all.shape)"
      ]
    },
    {
      "cell_type": "code",
      "execution_count": null,
      "metadata": {
        "id": "aW-GknVk1HZp",
        "outputId": "ac6c5b71-3579-44ea-a68e-25229a5ecc3a"
      },
      "outputs": [
        {
          "name": "stdout",
          "output_type": "stream",
          "text": [
            "Class Distribution After RandomOverSampler:\n",
            "Label\n",
            "3    74\n",
            "2    74\n",
            "1    74\n",
            "0    74\n",
            "Name: count, dtype: int64\n"
          ]
        }
      ],
      "source": [
        "# Performing SMOTE oversampling of the minor classes to the majority class\n",
        "\n",
        "df_all_res,labels_all_res=SMOTE_oversampling(df_all,labels_all)\n",
        "\n",
        "class_counts_resampled = pd.Series(labels_all_res).value_counts()\n",
        "print(f\"Class Distribution After RandomOverSampler:\\n{class_counts_resampled}\")"
      ]
    },
    {
      "cell_type": "code",
      "execution_count": null,
      "metadata": {
        "id": "E7-NuZ-f1HZp",
        "outputId": "e8971f44-7100-438c-f2ac-678b239bcfd6"
      },
      "outputs": [
        {
          "name": "stdout",
          "output_type": "stream",
          "text": [
            "Number of samples within each class:\t\t\t\t\t  (array([0, 1, 2, 3], dtype=int64), array([74, 74, 74, 74], dtype=int64))\n",
            "Number of samples within each class in training dataframe (stratified):\t  (array([0, 1, 2, 3], dtype=int64), array([51, 52, 52, 52], dtype=int64))\n",
            "Number of samples within each class in testing dataframe (stratified):\t  (array([0, 1, 2, 3], dtype=int64), array([23, 22, 22, 22], dtype=int64))\n"
          ]
        }
      ],
      "source": [
        "# Preparing the training and testing dataframes\n",
        "\n",
        "train_df,test_df,train_labels,test_labels=traintest_split(df_all_res,labels_all_res)\n",
        "print('Number of samples within each class:\\t\\t\\t\\t\\t ' , np.unique(labels_all_res, return_counts=True))\n",
        "print('Number of samples within each class in training dataframe (stratified):\\t ' , np.unique(train_labels, return_counts=True))\n",
        "print('Number of samples within each class in testing dataframe (stratified):\\t ', np.unique(test_labels, return_counts=True))"
      ]
    },
    {
      "cell_type": "code",
      "execution_count": null,
      "metadata": {
        "id": "SP6mbYia1HZp",
        "outputId": "2fff0521-777e-4c43-8421-1121711dedde"
      },
      "outputs": [
        {
          "name": "stdout",
          "output_type": "stream",
          "text": [
            "Time taken to perform RFE = 3.01556845108668 minutes\n",
            "Number of features selected = 547\n"
          ]
        }
      ],
      "source": [
        "# Performing feature selection using Recursive Feature Elimination with Cross Validation\n",
        "\n",
        "svm_estimator = svm.SVC(kernel='linear',random_state = 0)\n",
        "selected_features,num_features=feature_selection_RFE(svm_estimator,train_df,train_labels)\n",
        "print('Number of features selected =',num_features)"
      ]
    },
    {
      "cell_type": "code",
      "execution_count": null,
      "metadata": {
        "id": "kSKiFASv1HZp",
        "outputId": "64e64db9-b323-4966-f48c-e0eecdda6d85"
      },
      "outputs": [
        {
          "name": "stdout",
          "output_type": "stream",
          "text": [
            "(207, 547)\n",
            "(89, 547)\n",
            "['frdB', 'pyrF', 'cdaA', 'gatC_1', 'rocD2_1', 'polC', 'pbuG', 'acsA_2', 'crtM', 'narX', 'cntB', 'lepA', 'ptsI', 'msrA1', 'rlmH', 'nrtD', 'yciC_1', 'bioK', 'secE', 'acnA', 'pyrC', 'tarB', 'metP_2', 'rpmF', 'clpL', 'glpQ_1', 'codY', 'garK_2', 'ndk', 'hchA', 'yutF', 'dtd', 'mcsB', 'mrpB', 'bioF', 'ydbM', 'iolS', 'rimM', 'srrA', 'mecA_2', 'ribE', 'arcB', 'gcvT', 'rsuA', 'isdA', 'agrA', 'purK', 'purQ', 'ydjZ', 'rsbW', 'groS', 'pepF1_1', 'ytpA', 'tcyP', 'phnE_1', 'rplGA', 'yhaN', 'rluB', 'lipM', 'nreB', 'clpC', 'prmA', 'ugpQ', 'fdhD', 'tagU_2', 'tycC', 'trmB', 'dltC', 'dltA', 'gatB_2', 'alsS', 'pfbA', 'yfiZ_2', 'modA', 'mreC', 'rodA', 'adh', 'ligA', 'yqgN', 'map_1', 'spsB_1', 'hemW', 'bioY', 'sirB', 'xerD_2', 'orr', 'tig', 'yoeB', 'isdG_2', 'mecA_1', 'mrcA', 'ftsY', 'mprF', 'ymcA', 'mnaA_1', 'fnbB', 'ssl3', 'clpB', 'sdhC', 'rbfA', 'ssl4_2', 'priA', 'nrdE', 'crtN', 'pycA', 'azo1', 'oppF_1', 'glpG', 'ecfT_2', 'fepC', 'comEA', 'bsaA_1', 'mrpE', 'rnhB', 'pnbA', 'bacC', 'topB', 'lysP_2', 'clfB', 'fmt', 'metQ_1', 'arlS', 'yokF', 'dapE', 'cntI', 'bshC', 'queF', 'ypjD', 'yclP', 'yitJ', 'glvR', 'nudG', 'pitA', 'rpsU', 'splB', 'sucC', 'menH_2', 'treP_2', 'farB_2', 'pbpH', 'femA_1', 'ugtP', 'nikB', 'argR_1', 'wbjC', 'mutS2', 'sbcC', 'baiN', 'desR', 'cdsA', 'wbnH', 'bcr_2', 'nixA', 'murQ', 'capD', 'murJ', 'yveA', 'uhpT', 'ydaF', 'rpsN2', 'mhqA_2', 'ypcP', 'isdE', 'thiI', 'murD', 'entS', 'dprA', 'mnhD1_1', 'yhaP', 'fetB', 'ykoC', 'sarR', 'rfbX', 'deoC2', 'spsB_2', 'cycA_1', 'yfhA_2', 'tagX', 'ppaC', 'rpsT', 'aldC_2', 'tetA', 'kdpB', 'hdfR_2', 'apt', 'rhaS_1', 'hisC_3', 'map_3', 'tagO', 'truB', 'pstB3', 'tarS', 'malF', 'catE_2', 'dapH_1', 'sepA', 'ilvA', 'azoR', 'lipA_1', 'dgk', 'sigS', 'trpG_2', 'addB', 'araB', 'rsbU', 'ssl7_2', 'lip2', 'lspA', 'umuC', 'hsdR', 'purC', 'ghrB_2', 'ribU', 'cynR', 'recO', 'malL', 'hrcA', 'kdpA', 'bglA', 'mntR', 'fib', 'selX', 'yhaI', 'mdtH', 'ftsK', 'desK', 'gabR', 'mutY', 'arsB', 'tyrC', 'fhuD_1', 'nanA', 'hld', 'ktrB_1', 'uvrC', 'parC', 'deoC1', 'engB', 'hutH', 'lgt', 'hlb_2', 'phrB', 'arg', 'hslU', 'yflS', 'mepA', 'oppF_2', 'opuD_3', 'ydaG', 'lytN', 'opuD_1', 'polX', 'plc', 'alsT', 'grsB', 'irtA', 'lukDv', 'ecfT_1', 'sdrM', 'pchA', 'manR', 'sarX', 'sdrD', 'yydI', 'arlR', 'opuCB', 'catE_1', 'COQ5', 'yydJ', 'pglF', 'gph', 'adhE', 'nrdF', 'thyA', 'steT', 'yclN', 'tcaA', 'dnaE', 'argB', 'ysdC_2', 'isdB', 'aroB', 'trmK', 'sdrE', 'sbcD', 'malP', 'essB', 'yfkN', 'pgsA', 'yjdF', 'hisZ', 'nikA', 'tagG', 'sarT', 'recJ', 'ywqG', 'murC', 'putP', 'miaA', 'coiA', 'ythA', 'catD', 'sarU', 'pheT', 'rnhA', 'ricR', 'sauU', 'rhaR', 'sirC', 'lolD_1', 'efp', 'ilvD', 'sraP', 'aur', 'gloB', 'mutS_2', 'ssbA_3', 'rqcH', 'tal', 'lpl2_2', 'miaB', 'ykoD_1', 'ettA', 'yafV', 'ssp', 'hlgA', 'scn_3', 'gsiA', 'bcrR', 'ywlC_1', 'pre_1', 'blaZ', 'ktrB', 'nirC', 'pre_2', 'comEC', 'ywqN_2', 'clfA', 'qorB', 'flr', 'gamR', 'cadC', 'ctaA', 'ktrB_2', 'bcrA_1', 'essG_3', 'hylB', 'ssl7_1', 'cntE', 'hsdM_2', 'appA', 'fmtA', 'aphA', 'bin3', 'fosB', 'hly', 'lpl2_4', 'glpE', 'blaI', 'hlgC_2', 'epiD', 'entA_1', 'essG_1', 'splC', 'ggt', 'recQ_1', 'ssl4_1', 'yknY', 'icaB', 'tet(K)', 'clpP_1', 'arsC', 'splA', 'leuA_1', 'hsdM', 'fhuD_2', 'gltB_2', 'mecR1', 'ssl1', 'ecfT', 'norB_4', 'xerC_2', 'scn_2', 'splF', 'sasG', 'sak', 'uvrB_1', 'satA', 'nisC', 'macB', 'dus', 'sdrC', 'blaR1-2', 'lukDv_1', 'agrB', 'essD', 'gltR', 'entA_2', 'aadK', 'emp', 'essG_5', 'ebh_1', 'fhuD', 'tarM', 'repN', 'licR', 'nisB', 'prmC_1', 'fnbA', 'lexA_1', 'natA', 'yofA', 'infB_2', 'aacA-aphD', 'btuD_3', 'splE', 'hsdM_1', 'pnp_2', 'COQ5_2', 'smc_1', 'bcrA', 'gdmA', 'cadA', 'repE', 'cna', 'essG_4', 'hin_2', \"ermC'\", 'xerC_6', 'dut', 'essG_2', 'bceB_2', 'xerD_4', 'yoaA', 'cdnE', 'tet(L)', 'uvrB_2', 'icaC_2', 'dppB', 'splD', 'yfmC_2', 'rep', 'xerC_5', 'uppP_2', 'bcrA_4', 'mecI', 'bin3_1', 'cycA', 'fas6', 'bcrB', 'entG', 'dppD', 'lpl2_7', 'xerC_4', 'entH', 'ddpF', 'opuCC_2', 'repD', 'entD', 'ycjY', 'pre', 'cat', 'recQ', 'xerD_3', 'phrA', 'ywlC_2', 'chp', 'IMPDH_2', 'femB_2', 'mcrB', 'ebhA', 'entA', 'leuA_2', 'norB_5', 'lpl2', 'thyA_2', 'knt', 'MENG', 'acuI', 'linA', 'entC3', 'hly_2', 'hin_1', 'dus_1', 'sdrE_1', 'lpl2_6', 'lip2_1', 'fokIM', 'mco', 'sdpR', 'copB', 'yfmC_3', 'yjaB', 'tarP', 'msr(A)', 'aacA-aphD_2', 'entC2', 'topB_2', 'fokIR', 'splE_1', 'setA', 'entD_1', 'cas1', 'strA', 'csm4', 'csm5', 'rlmA', 'csm2', 'csm3', 'cas2', 'icaB_2', 'repN_3', 'csm6', 'dnaN_2', 'ousW', 'hslV_2', 'walK_2', 'bamA', 'lrp', 'lptB', 'purN_2', 'chbA', 'pxpA_2', 'hrtA_3', 'tarD_2', 'argC_2', 'dapE_1', 'aptA', 'aptB', 'parB', 'cph2', 'radA_2', 'mfd_2', 'bbp', 'essG_9', 'essG_8', 'accC_1', 'cadC_1', 'oppF_3', 'lip', 'trxB_2', 'dpnM', 'fhuD_3', 'hrcA_2', 'yabJ_2', 'repB', 'nagB_3']\n"
          ]
        }
      ],
      "source": [
        "# Retaining the selected features in the training and testing dataframes\n",
        "\n",
        "train_df,test_df,features_to_keep = retain_selected_features(train_df,test_df,selected_features)\n",
        "\n",
        "print(train_df.shape)\n",
        "print(test_df.shape)\n",
        "print(features_to_keep)"
      ]
    },
    {
      "cell_type": "code",
      "execution_count": null,
      "metadata": {
        "id": "vETYJfwO1HZp",
        "outputId": "5a692ffe-5d08-42d4-f53b-856bd21fac9b"
      },
      "outputs": [
        {
          "name": "stdout",
          "output_type": "stream",
          "text": [
            "         Accuracy  F1 score\n",
            "Linear   0.811963  0.812634\n",
            "Poly     0.792451  0.793476\n",
            "RBF      0.710105  0.708857\n",
            "Sigmoid  0.536353  0.492690\n"
          ]
        }
      ],
      "source": [
        "# Determining baseline classification scores before hyperparameter tuning\n",
        "\n",
        "baseline_scores=baseline_scores_SVM(train_df,train_labels)\n",
        "print(baseline_scores)"
      ]
    },
    {
      "cell_type": "code",
      "execution_count": null,
      "metadata": {
        "id": "pXlJ6Zg31HZq",
        "outputId": "bbf957c3-0193-4d47-efd9-8515d559f5ca"
      },
      "outputs": [
        {
          "name": "stdout",
          "output_type": "stream",
          "text": [
            "Best parameters chosen by grid search:  {'C': 0.1, 'degree': 3, 'gamma': 'scale', 'kernel': 'linear'}\n",
            "\n",
            "Having an average ACCURACY 0.8167247386759582\n",
            "\t\t  F1 SCORE 0.8172245684318018\n",
            "\t\t  ROC AUC  nan\n"
          ]
        }
      ],
      "source": [
        "# Performing hyperparameter tuning using GridSearchCV\n",
        "\n",
        "param_grid = {\n",
        "    'C': [0.01,0.1,1,10,100],\n",
        "    'kernel':['linear','poly', 'rbf', 'sigmoid'],\n",
        "    'degree':range(3,7,1),\n",
        "    'gamma': ['scale','auto'],\n",
        "}\n",
        "\n",
        "estimator=svm.SVC(random_state=0,probability=True)\n",
        "best_params,best_model=hyperparameter_tuning(estimator,param_grid,train_df,train_labels)\n",
        "\n",
        "print('Best parameters chosen by grid search: ', best_params)\n",
        "\n",
        "accuracies,f1_scores,roc_aucs = tuned_scores(best_model,train_df,train_labels)\n",
        "print(f'\\nHaving an average ACCURACY {accuracies.mean()}\\n\\t\\t  F1 SCORE {f1_scores.mean()}\\n\\t\\t  ROC AUC  {roc_aucs.mean()}')"
      ]
    },
    {
      "cell_type": "code",
      "execution_count": null,
      "metadata": {
        "id": "7YMQKHgC1HZq",
        "outputId": "879283ee-f965-4efd-e26f-995b7ee56287"
      },
      "outputs": [
        {
          "name": "stdout",
          "output_type": "stream",
          "text": [
            "              precision    recall  f1-score   support\n",
            "\n",
            "           0       0.96      1.00      0.98        23\n",
            "           1       0.63      0.77      0.69        22\n",
            "           2       0.71      0.55      0.62        22\n",
            "           3       0.71      0.68      0.70        22\n",
            "\n",
            "    accuracy                           0.75        89\n",
            "   macro avg       0.75      0.75      0.75        89\n",
            "weighted avg       0.75      0.75      0.75        89\n",
            "\n"
          ]
        },
        {
          "data": {
            "image/png": "[encoded data removed]",
            "text/plain": [
              "<Figure size 640x480 with 2 Axes>"
            ]
          },
          "metadata": {},
          "output_type": "display_data"
        }
      ],
      "source": [
        "# Testing the tuned multiclass classifier on testing data\n",
        "\n",
        "testing(best_model,test_df,test_labels)"
      ]
    },
    {
      "cell_type": "code",
      "execution_count": null,
      "metadata": {
        "id": "8BRYRAg11HZq",
        "outputId": "a9a8972f-7f7d-497e-cde4-1c65f86586a1"
      },
      "outputs": [
        {
          "name": "stdout",
          "output_type": "stream",
          "text": [
            "Accuracy:       0.7528089887640449\n",
            "Precision:      0.7520327575474635\n",
            "Recall:         0.75\n",
            "F1 Score:       0.7464149973162485\n",
            "ROC-AUC Score:  0.9170673313275519\n",
            "\n"
          ]
        },
        {
          "data": {
            "image/png": "[encoded data removed]",
            "text/plain": [
              "<Figure size 800x600 with 1 Axes>"
            ]
          },
          "metadata": {},
          "output_type": "display_data"
        }
      ],
      "source": [
        "# Evaluating the multiclass classifier performance using various metrics & plotting the ROC curve\n",
        "\n",
        "accuracy,precision,recall,f1,roc_auc=multiclass_classifier_scores(best_model,test_df,test_labels)\n",
        "\n",
        "print(f'Accuracy:       {accuracy}')\n",
        "print(f'Precision:      {precision}')\n",
        "print(f'Recall:         {recall}')\n",
        "print(f'F1 Score:       {f1}')\n",
        "print(f'ROC-AUC Score:  {roc_auc}\\n')\n",
        "\n",
        "plot_multiclass_roc_curve(best_model,test_df,test_labels)"
      ]
    }
  ],
  "metadata": {
    "colab": {
      "collapsed_sections": [
        "I-i23eYolgpj",
        "QbcfkBEplinf",
        "cbzS_IuPlrDC",
        "If4t-5GMl1KZ",
        "TR5RyCtZnPlN",
        "7kolZaccnanz",
        "JtuzJAPDl9a1",
        "eYtaC83Glgp9",
        "-1sjZgAIlgqC"
      ],
      "provenance": []
    },
    "kernelspec": {
      "display_name": "Python 3",
      "language": "python",
      "name": "python3"
    },
    "language_info": {
      "codemirror_mode": {
        "name": "ipython",
        "version": 3
      },
      "file_extension": ".py",
      "mimetype": "text/x-python",
      "name": "python",
      "nbconvert_exporter": "python",
      "pygments_lexer": "ipython3",
      "version": "3.12.1"
    }
  },
  "nbformat": 4,
  "nbformat_minor": 0
}
