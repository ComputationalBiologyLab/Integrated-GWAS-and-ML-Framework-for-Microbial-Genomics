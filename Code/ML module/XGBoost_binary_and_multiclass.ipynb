{
  "cells": [
    {
      "cell_type": "markdown",
      "metadata": {},
      "source": [
        "# <center>**Code for construction of XGBoost binary & multiclass classifiers**<center>"
      ]
    },
    {
      "cell_type": "markdown",
      "metadata": {},
      "source": [
        "# Import Statements"
      ]
    },
    {
      "cell_type": "code",
      "execution_count": null,
      "metadata": {
        "id": "F68bh3czlgpd"
      },
      "outputs": [],
      "source": [
        "import time\n",
        "import warnings\n",
        "import pandas as pd\n",
        "import numpy as np\n",
        "import matplotlib.pyplot as plt\n",
        "import xgboost as xgb\n",
        "from imblearn.over_sampling import SMOTE\n",
        "from sklearn.model_selection import train_test_split, cross_val_score, GridSearchCV\n",
        "from sklearn.metrics import classification_report, ConfusionMatrixDisplay\n",
        "from sklearn.metrics import accuracy_score, precision_score, recall_score, f1_score, roc_auc_score, roc_curve, auc\n",
        "from sklearn.feature_selection import RFECV\n",
        "from sklearn.preprocessing import label_binarize"
      ]
    },
    {
      "cell_type": "markdown",
      "metadata": {
        "id": "I-i23eYolgpj"
      },
      "source": [
        "# Helper Functions"
      ]
    },
    {
      "cell_type": "markdown",
      "metadata": {
        "id": "QbcfkBEplinf"
      },
      "source": [
        "## Fetching inputs"
      ]
    },
    {
      "cell_type": "code",
      "execution_count": null,
      "metadata": {
        "id": "JDDMjwIklgpl"
      },
      "outputs": [],
      "source": [
        "# Function to fetch the gene presence/absence dataframe and append the binary labels\n",
        "\n",
        "def fetch_all_dataframe_and_labels():\n",
        "    df_all = pd.read_csv('gene_presence_absence.Rtab', sep='\\t', index_col=0)\n",
        "    df_all=df_all.tranpose()\n",
        "    \n",
        "    labels_all = pd.read_csv('biofilm_pheno_binary.tsv', sep='\\t', index_col=0)\n",
        "\n",
        "    exc_all=[idx for idx in df_all.index if idx not in labels_all.index]\n",
        "    df_all=df_all.drop(index=exc_all)\n",
        "\n",
        "    df_all['Label']=labels_all\n",
        "    labels_all=df_all.loc[:,'Label']\n",
        "\n",
        "    return df_all,labels_all"
      ]
    },
    {
      "cell_type": "code",
      "execution_count": null,
      "metadata": {
        "id": "uZk6Sfh-AYLP"
      },
      "outputs": [],
      "source": [
        "# Function to fetch the gene presence/absence dataframe and append the multiclass labels\n",
        "\n",
        "def fetch_all_df_and_multilabels():\n",
        "    df_all = pd.read_csv('gene_presence_absence.Rtab', sep='\\t', index_col=0)\n",
        "    df_all=df_all.tranpose()\n",
        "    \n",
        "    labels_all = pd.read_csv('biofilm_pheno_multi.tsv', sep='\\t', index_col=0)\n",
        "\n",
        "    exc_all=[idx for idx in df_all.index if idx not in labels_all.index]\n",
        "    df_all=df_all.drop(index=exc_all)\n",
        "\n",
        "    df_all['Label']=labels_all\n",
        "    labels_all=df_all.loc[:,'Label']\n",
        "\n",
        "    return df_all,labels_all"
      ]
    },
    {
      "cell_type": "markdown",
      "metadata": {
        "id": "cbzS_IuPlrDC"
      },
      "source": [
        "## Processing"
      ]
    },
    {
      "cell_type": "code",
      "execution_count": null,
      "metadata": {
        "id": "dWJcr55glgpw"
      },
      "outputs": [],
      "source": [
        "# Function to remove all hypothetical genes having prefix \"group_\"\n",
        "\n",
        "def remove_group_genes(df):\n",
        "    grp=[]\n",
        "    for gene in df.columns:\n",
        "        if gene.startswith('group_'):\n",
        "            grp.append(gene)\n",
        "\n",
        "    df=df.drop(columns=grp)\n",
        "\n",
        "    return df"
      ]
    },
    {
      "cell_type": "code",
      "execution_count": null,
      "metadata": {
        "id": "8gRVUSiUlgpw"
      },
      "outputs": [],
      "source": [
        "# Function to perform SMOTE oversampling\n",
        "\n",
        "def SMOTE_oversampling(df,labels):\n",
        "    smote = SMOTE(random_state=0)\n",
        "    df_res, labels_res = smote.fit_resample(df,labels)\n",
        "\n",
        "    return df_res, labels_res"
      ]
    },
    {
      "cell_type": "code",
      "execution_count": null,
      "metadata": {
        "id": "fh7H8q65lgpw"
      },
      "outputs": [],
      "source": [
        "# Function to prepare the training and testing dataframes & their corresponding labels\n",
        "\n",
        "def traintest_split(df, labels, train=0.7, test=0.3):\n",
        "    if 'Label' not in df.columns:\n",
        "        df=pd.concat([df,labels],axis=1)\n",
        "\n",
        "    train_df, test_df = train_test_split(df, train_size=train, test_size=test, random_state=0, stratify=df.loc[:,'Label'])\n",
        "    train_labels = train_df.loc[:,'Label']\n",
        "    test_labels = test_df.loc[:,'Label']\n",
        "\n",
        "    train_df = train_df.drop(labels='Label', axis=1)\n",
        "    test_df = test_df.drop(labels='Label', axis=1)\n",
        "\n",
        "    return train_df,test_df,train_labels,test_labels"
      ]
    },
    {
      "cell_type": "code",
      "execution_count": null,
      "metadata": {
        "id": "NvFd6AE0tSXR"
      },
      "outputs": [],
      "source": [
        "# Function to perform feature selection using Recursive Feature Elimination with Cross Validation\n",
        "\n",
        "def feature_selection_RFE(estimator,train_df, train_labels, step_size=1, scoring_metric='accuracy', threads=36):\n",
        "    if 'Label' in train_df.columns:\n",
        "        train_df=train_df.drop(columns=['Label'])\n",
        "\n",
        "    start_time = time.time()\n",
        "\n",
        "    selector = RFECV(estimator, step=step_size, cv=5, scoring=scoring_metric, n_jobs=threads)\n",
        "\n",
        "    feature_subset = selector.fit(train_df, train_labels)\n",
        "\n",
        "    end_time = time.time()\n",
        "    elapsed_time_minutes = (end_time - start_time) / 60\n",
        "\n",
        "    print(f'Time taken to perform RFE = {elapsed_time_minutes} minutes')\n",
        "\n",
        "    return feature_subset, selector.n_features_"
      ]
    },
    {
      "cell_type": "code",
      "execution_count": null,
      "metadata": {
        "id": "qK_d8RG5lgpx"
      },
      "outputs": [],
      "source": [
        "# Function to drop the features that were not chosen by RFECV from the training and testing dataframes\n",
        "\n",
        "def retain_selected_features(train_df,test_df,RFE_output):\n",
        "    bool_feature_subset=RFE_output.get_support()\n",
        "    features_to_drop_indices=[idx for idx in range(len(bool_feature_subset)) if bool_feature_subset[idx] == False]\n",
        "    features_to_drop=[train_df.columns[feature_idx] for feature_idx in features_to_drop_indices]\n",
        "    features_to_keep_indices=[idx for idx in range(len(bool_feature_subset)) if bool_feature_subset[idx] == True]\n",
        "    features_to_keep=[train_df.columns[feature_idx] for feature_idx in features_to_keep_indices]\n",
        "\n",
        "    train_df = train_df.drop(columns=features_to_drop)\n",
        "    test_df = test_df.drop(columns=features_to_drop)\n",
        "\n",
        "    return train_df, test_df, features_to_keep"
      ]
    },
    {
      "cell_type": "code",
      "execution_count": null,
      "metadata": {
        "id": "4y8ibiDhlgpx"
      },
      "outputs": [],
      "source": [
        "# Function to determine baseline classification scores before hyperparameter tuning\n",
        "\n",
        "def baseline_scores(estimator,train_df,train_labels):\n",
        "    warnings.filterwarnings('ignore')\n",
        "\n",
        "    baseline_accuracy = cross_val_score(estimator, train_df, train_labels, cv=5, scoring='accuracy')\n",
        "    baseline_f1 = cross_val_score(estimator, train_df, train_labels, cv=5, scoring='f1_weighted')\n",
        "    baseline_rocauc = cross_val_score(estimator, train_df, train_labels, cv=5, scoring='roc_auc')\n",
        "\n",
        "    return baseline_accuracy.mean(), baseline_f1.mean(), baseline_rocauc.mean()"
      ]
    },
    {
      "cell_type": "code",
      "execution_count": null,
      "metadata": {
        "id": "mHIfBTW0lgpy"
      },
      "outputs": [],
      "source": [
        "# Function to perform hyperparameter tuning using GridSearchCV\n",
        "\n",
        "def hyperparameter_tuning(estimator, param_grid, train_df,train_labels):\n",
        "    grid_search = GridSearchCV(estimator, param_grid, cv=5, scoring='accuracy', n_jobs=36)\n",
        "    grid_search.fit(train_df, train_labels)\n",
        "\n",
        "    grid_results_df=pd.DataFrame(grid_search.cv_results_)[['mean_test_score', 'std_test_score', 'params']]\n",
        "    best_params_grid = grid_search.best_params_\n",
        "    best_model_grid = grid_search.best_estimator_\n",
        "\n",
        "    return best_params_grid, best_model_grid"
      ]
    },
    {
      "cell_type": "code",
      "execution_count": null,
      "metadata": {
        "id": "jpxfeIn2lgpy"
      },
      "outputs": [],
      "source": [
        "# Function to determine classification scores after hyperparameter tuning\n",
        "\n",
        "def tuned_scores(best_model_grid, train_df, train_labels):\n",
        "    warnings.filterwarnings('ignore')\n",
        "\n",
        "    cv_accuracy_tuned = cross_val_score(best_model_grid, train_df, train_labels, cv=5, scoring='accuracy')\n",
        "    cv_f1_tuned = cross_val_score(best_model_grid, train_df, train_labels, cv=5, scoring='f1_weighted')\n",
        "    cv_roc_auc_tuned = cross_val_score(best_model_grid, train_df, train_labels, cv=5, scoring='roc_auc')\n",
        "\n",
        "    return cv_accuracy_tuned, cv_f1_tuned, cv_roc_auc_tuned"
      ]
    },
    {
      "cell_type": "code",
      "execution_count": null,
      "metadata": {
        "id": "s8FKDlROlgpy"
      },
      "outputs": [],
      "source": [
        "# Function to test the model on the testing data\n",
        "\n",
        "def testing(model, test_df, test_labels):\n",
        "    model_predictions = model.predict(test_df)\n",
        "\n",
        "    print(classification_report(test_labels, model_predictions))\n",
        "\n",
        "    disp = ConfusionMatrixDisplay.from_predictions(test_labels, model_predictions, labels=model.classes_, cmap='Blues')"
      ]
    },
    {
      "cell_type": "code",
      "execution_count": null,
      "metadata": {
        "id": "mcnd4x0Y1bDf"
      },
      "outputs": [],
      "source": [
        "# Function to evaluate binary classifier performance using various metrics (accuracy, precision, recall, f1, roc_auc)\n",
        "\n",
        "def binary_classifier_scores(best_model, test_df, test_labels):\n",
        "    y_pred=best_model.predict(test_df)\n",
        "    y_prob=best_model.predict_proba(test_df)[:, 1]\n",
        "\n",
        "    accuracy = accuracy_score(test_labels, y_pred)\n",
        "    precision = precision_score(test_labels, y_pred)\n",
        "    recall = recall_score(test_labels, y_pred)\n",
        "    f1 = f1_score(test_labels, y_pred)\n",
        "    roc_auc = roc_auc_score(test_labels, y_prob)\n",
        "\n",
        "    return(accuracy,precision,recall,f1,roc_auc)"
      ]
    },
    {
      "cell_type": "code",
      "execution_count": null,
      "metadata": {
        "id": "B1x1dXoR1bDg"
      },
      "outputs": [],
      "source": [
        "# Function to plot the ROC curve for the binary classifier\n",
        "\n",
        "def plot_binary_roc_curve(best_model, test_df, test_labels):\n",
        "    y_pred=best_model.predict(test_df)\n",
        "    y_prob=best_model.predict_proba(test_df)[:, 1]\n",
        "    fpr, tpr, thresholds = roc_curve(test_labels, y_prob)\n",
        "\n",
        "    roc_auc = auc(fpr, tpr)\n",
        "\n",
        "    plt.figure(figsize=(8, 6))\n",
        "    plt.plot(fpr, tpr, color='b', lw=2, label=f'ROC curve (AUC = {roc_auc:.4f})')\n",
        "    plt.plot([0, 1], [0, 1], color='gray', linestyle='--')\n",
        "    plt.xlim([0.0, 1.0])\n",
        "    plt.ylim([0.0, 1.05])\n",
        "    plt.xlabel('False Positive Rate')\n",
        "    plt.ylabel('True Positive Rate')\n",
        "    plt.title('Receiver Operating Characteristic (ROC) Curve')\n",
        "    plt.legend(loc='lower right')\n",
        "    plt.grid(True)\n",
        "    plt.show()"
      ]
    },
    {
      "cell_type": "code",
      "execution_count": null,
      "metadata": {
        "id": "05GDtpSt1bDg"
      },
      "outputs": [],
      "source": [
        "# Function to evaluate multiclass classifier performance using various metrics (accuracy, precision, recall, f1, roc_auc)\n",
        "\n",
        "def multiclass_classifier_scores(best_model, test_df, test_labels):\n",
        "    y_pred = best_model.predict(test_df)\n",
        "    y_prob = best_model.predict_proba(test_df)\n",
        "\n",
        "    accuracy = accuracy_score(test_labels, y_pred)\n",
        "\n",
        "    # Precision, Recall, F1 - using 'macro' average for multi-class\n",
        "    precision = precision_score(test_labels, y_pred, average='macro')\n",
        "    recall = recall_score(test_labels, y_pred, average='macro')\n",
        "    f1 = f1_score(test_labels, y_pred, average='macro')\n",
        "\n",
        "    y_test_bin = label_binarize(test_labels, classes=[0, 1, 2, 3])\n",
        "    roc_auc = roc_auc_score(y_test_bin, y_prob, average='macro', multi_class='ovr')\n",
        "\n",
        "    return accuracy, precision, recall, f1, roc_auc"
      ]
    },
    {
      "cell_type": "code",
      "execution_count": null,
      "metadata": {
        "id": "hEn_qLGG1bDh"
      },
      "outputs": [],
      "source": [
        "# Function to plot the ROC curve for the multiclass classifier\n",
        "\n",
        "def plot_multiclass_roc_curve(best_model, test_df, test_labels):\n",
        "    y_pred = best_model.predict(test_df)\n",
        "    y_prob = best_model.predict_proba(test_df)\n",
        "\n",
        "    y_test_bin = label_binarize(test_labels, classes=[0, 1, 2, 3])\n",
        "\n",
        "    n_classes = y_test_bin.shape[1]\n",
        "    fpr = dict()\n",
        "    tpr = dict()\n",
        "    roc_auc = dict()\n",
        "\n",
        "    for i in range(n_classes):\n",
        "        fpr[i], tpr[i], _ = roc_curve(y_test_bin[:, i], y_prob[:, i])\n",
        "        roc_auc[i] = auc(fpr[i], tpr[i])\n",
        "\n",
        "    plt.figure(figsize=(8, 6))\n",
        "    for i in range(n_classes):\n",
        "        plt.plot(fpr[i], tpr[i], lw=2, label=f'Class {i} (AUC = {roc_auc[i]:.4f})')\n",
        "\n",
        "    plt.plot([0, 1], [0, 1], color='gray', linestyle='--')\n",
        "    plt.xlim([0.0, 1.0])\n",
        "    plt.ylim([0.0, 1.05])\n",
        "    plt.xlabel('False Positive Rate')\n",
        "    plt.ylabel('True Positive Rate')\n",
        "    plt.title('Receiver Operating Characteristic (ROC) Curve for Multi-Class')\n",
        "    plt.legend(loc='lower right')\n",
        "    plt.grid(True)\n",
        "    plt.show()"
      ]
    },
    {
      "cell_type": "markdown",
      "metadata": {
        "id": "q9TWyNzKoBZV"
      },
      "source": [
        "# Main Code"
      ]
    },
    {
      "cell_type": "markdown",
      "metadata": {
        "id": "eYtaC83Glgp9"
      },
      "source": [
        "## Binary classifier"
      ]
    },
    {
      "cell_type": "code",
      "execution_count": null,
      "metadata": {
        "id": "Zhnh7UMklgqG",
        "outputId": "202a791c-78b1-4046-c8b9-eeb018216f83"
      },
      "outputs": [
        {
          "name": "stdout",
          "output_type": "stream",
          "text": [
            "       rpmJ  rpsJ  rplB  rpmE2  rpsG  rplO  rpsF  rplP  rplN  atpE  ...  \\\n",
            "AA1       1     1     1      1     1     1     1     1     1     1  ...   \n",
            "AA100     1     1     1      1     1     1     1     1     1     1  ...   \n",
            "AA102     1     1     1      1     1     1     1     1     1     1  ...   \n",
            "AA103     1     1     1      1     1     1     1     1     1     1  ...   \n",
            "AA11      1     1     1      1     1     1     1     1     1     1  ...   \n",
            "\n",
            "       group_9986  group_9987  group_9990  group_9992  group_9994  group_9996  \\\n",
            "AA1             0           0           0           0           0           0   \n",
            "AA100           0           0           0           0           0           0   \n",
            "AA102           0           0           0           0           0           0   \n",
            "AA103           0           0           0           0           0           0   \n",
            "AA11            0           0           0           0           0           0   \n",
            "\n",
            "       group_9997  ydjI  group_9999  Label  \n",
            "AA1             0     0           0      1  \n",
            "AA100           0     0           0      1  \n",
            "AA102           0     0           0      1  \n",
            "AA103           0     0           0      1  \n",
            "AA11            0     0           0      0  \n",
            "\n",
            "[5 rows x 11261 columns]\n",
            "(178, 11261)\n",
            "(178,)\n"
          ]
        }
      ],
      "source": [
        "# Fetching the gene presence/absence dataframe with binary labels\n",
        "\n",
        "df_all,labels_all=fetch_all_dataframe_and_labels()\n",
        "\n",
        "print(df_all.head())\n",
        "print(df_all.shape)\n",
        "print(labels_all.shape)"
      ]
    },
    {
      "cell_type": "code",
      "execution_count": null,
      "metadata": {
        "id": "vyZ773BylgqG",
        "outputId": "fc00b533-90f5-444f-9ce8-4a16a6cbf877"
      },
      "outputs": [
        {
          "name": "stdout",
          "output_type": "stream",
          "text": [
            "       rpmJ  rpsJ  rplB  rpmE2  rpsG  rplO  rpsF  rplP  rplN  atpE  ...  \\\n",
            "AA1       1     1     1      1     1     1     1     1     1     1  ...   \n",
            "AA100     1     1     1      1     1     1     1     1     1     1  ...   \n",
            "AA102     1     1     1      1     1     1     1     1     1     1  ...   \n",
            "AA103     1     1     1      1     1     1     1     1     1     1  ...   \n",
            "AA11      1     1     1      1     1     1     1     1     1     1  ...   \n",
            "\n",
            "       splD_1  cysC  eutB  lepB  flgE  purA_2  greA_2  pdp_2  ydjI  Label  \n",
            "AA1         0     0     0     0     0       0       0      0     0      1  \n",
            "AA100       0     0     0     0     0       0       0      0     0      1  \n",
            "AA102       0     0     0     0     0       0       0      0     0      1  \n",
            "AA103       0     0     0     0     0       0       0      0     0      1  \n",
            "AA11        0     0     0     0     0       0       0      0     0      0  \n",
            "\n",
            "[5 rows x 2570 columns]\n",
            "(178, 2570)\n"
          ]
        }
      ],
      "source": [
        "# Removing all hypothetical genes having prefix \"group_\"\n",
        "\n",
        "df_all=remove_group_genes(df_all)\n",
        "print(df_all.head())\n",
        "print(df_all.shape)"
      ]
    },
    {
      "cell_type": "code",
      "execution_count": null,
      "metadata": {
        "id": "gFzktlC_lgqH",
        "outputId": "f2621644-5c58-4601-b591-b6bcfd1bb0a9"
      },
      "outputs": [
        {
          "name": "stdout",
          "output_type": "stream",
          "text": [
            "Class Distribution After RandomOverSampler:\n",
            "Label\n",
            "1    127\n",
            "0    127\n",
            "Name: count, dtype: int64\n"
          ]
        }
      ],
      "source": [
        "# Performing SMOTE oversampling of the minor class to the majority class\n",
        "\n",
        "df_all_res,labels_all_res=SMOTE_oversampling(df_all,labels_all)\n",
        "\n",
        "class_counts_resampled = pd.Series(labels_all_res).value_counts()\n",
        "print(f\"Class Distribution After RandomOverSampler:\\n{class_counts_resampled}\")"
      ]
    },
    {
      "cell_type": "code",
      "execution_count": null,
      "metadata": {
        "id": "G1bYLrOflgqH",
        "outputId": "132bede8-3db9-4688-e661-e7321bb9b17b"
      },
      "outputs": [
        {
          "name": "stdout",
          "output_type": "stream",
          "text": [
            "Number of samples within each class:\t\t\t\t\t  (array([0, 1], dtype=int64), array([127, 127], dtype=int64))\n",
            "Number of samples within each class in training dataframe (stratified):\t  (array([0, 1], dtype=int64), array([88, 89], dtype=int64))\n",
            "Number of samples within each class in testing dataframe (stratified):\t  (array([0, 1], dtype=int64), array([39, 38], dtype=int64))\n"
          ]
        }
      ],
      "source": [
        "# Preparing the training and testing dataframes\n",
        "\n",
        "train_df,test_df,train_labels,test_labels=traintest_split(df_all_res,labels_all_res)\n",
        "print('Number of samples within each class:\\t\\t\\t\\t\\t ' , np.unique(labels_all_res, return_counts=True))\n",
        "print('Number of samples within each class in training dataframe (stratified):\\t ' , np.unique(train_labels, return_counts=True))\n",
        "print('Number of samples within each class in testing dataframe (stratified):\\t ', np.unique(test_labels, return_counts=True))"
      ]
    },
    {
      "cell_type": "code",
      "execution_count": null,
      "metadata": {
        "id": "r88NojxClgqH",
        "outputId": "d424c1fe-ee6e-4136-9afa-40e1cee2d87c"
      },
      "outputs": [
        {
          "name": "stdout",
          "output_type": "stream",
          "text": [
            "Time taken to perform RFE = 21.50407449801763 minutes\n",
            "Number of features selected = 62\n"
          ]
        }
      ],
      "source": [
        "# Performing feature selection using Recursive Feature Elimination with Cross Validation\n",
        "\n",
        "estimator = xgb.XGBClassifier(random_state=0)\n",
        "\n",
        "selected_features,num_features=feature_selection_RFE(estimator,train_df,train_labels)\n",
        "print('Number of features selected =',num_features)"
      ]
    },
    {
      "cell_type": "code",
      "execution_count": null,
      "metadata": {
        "id": "f1EraYAUlgqI",
        "outputId": "f64ba49b-2ff5-4d3d-e014-007f5e2eb42a"
      },
      "outputs": [
        {
          "name": "stdout",
          "output_type": "stream",
          "text": [
            "(177, 62)\n",
            "(77, 62)\n",
            "['crtM', 'cidB', 'pdxT', 'gcvPB', 'rbgA', 'isdA', 'agrA', 'graR_1', 'pxpC_2', 'pfbA', 'yfiZ_2', 'ligA', 'spsB_1', 'yfbR', 'mecA_1', 'yfcJ', 'plsY', 'mnaA_1', 'bceB_1', 'nixA', 'tagX', 'ppaC', 'tagO', 'trpG_2', 'mutY', 'hlb_2', 'lukDv', 'thyA', 'ysdC_2', 'aroB', 'nikA', 'rnhA', 'sraP', 'tal', 'hlgA', 'epiD', 'splC', 'ggt', 'ssl4_1', 'tet(K)', 'arsC', 'ssl1', 'norB_4', 'satA', 'gltR', 'emp', 'ebh_1', 'licR', 'nisB', 'fnbA', 'aacA-aphD', 'hsdM_1', 'pnp_2', 'smc_1', 'dut', 'yoaA', 'ssl3_2', 'lpl2_7', 'opuCC_2', 'yvgN_3', 'femB_2', 'leuA_2']\n"
          ]
        }
      ],
      "source": [
        "# Retaining the selected features in the training and testing dataframes\n",
        "\n",
        "train_df,test_df,features_to_keep = retain_selected_features(train_df,test_df,selected_features)\n",
        "\n",
        "print(train_df.shape)\n",
        "print(test_df.shape)\n",
        "print(features_to_keep)"
      ]
    },
    {
      "cell_type": "code",
      "execution_count": null,
      "metadata": {
        "id": "gVbSrJoulgqI",
        "outputId": "42e2fa30-9440-4e3b-957f-12ce22286aac"
      },
      "outputs": [
        {
          "name": "stdout",
          "output_type": "stream",
          "text": [
            "Baseline ACCURACY = 0.8363492063492064\n",
            "Baseline F1 SCORE = 0.8360399078046136\n",
            "Baseline ROC AUC = 0.9268700072621643\n"
          ]
        }
      ],
      "source": [
        "# Determining baseline classification scores before hyperparameter tuning\n",
        "\n",
        "estimator = xgb.XGBClassifier(random_state=0)\n",
        "\n",
        "baseline_accuracy,baseline_f1,baseline_roc_auc=baseline_scores(estimator,train_df,train_labels)\n",
        "print(f'Baseline ACCURACY = {baseline_accuracy}')\n",
        "print(f'Baseline F1 SCORE = {baseline_f1}')\n",
        "print(f'Baseline ROC AUC = {baseline_roc_auc}')"
      ]
    },
    {
      "cell_type": "code",
      "execution_count": null,
      "metadata": {
        "id": "SK0J2fhklgqI",
        "outputId": "9c7d22e2-0968-485b-cbb9-f00282dd95d8"
      },
      "outputs": [
        {
          "name": "stdout",
          "output_type": "stream",
          "text": [
            "Best parameters chosen by grid search:  {'gamma': 0, 'learning_rate': 0.1, 'max_depth': 2, 'n_estimators': 200, 'objective': 'binary:hinge', 'reg_alpha': 0, 'reg_lambda': 10, 'tree_method': 'auto'}\n",
            "\n",
            "Having an average ACCURACY 0.8922222222222222\n",
            "\t\t  F1 SCORE 0.892105672105672\n",
            "\t\t  ROC AUC  0.892483660130719\n"
          ]
        }
      ],
      "source": [
        "# Performing hyperparameter tuning using GridSearchCV\n",
        "\n",
        "param_grid = {\n",
        "    \"learning_rate\": [0.1, 0.2, 0.3, 0.4, 0.5],\n",
        "    \"gamma\": [0, 1, 10],\n",
        "    \"max_depth\": [1, 2, 3, 4, 5, 6],\n",
        "    \"reg_lambda\": [1, 10],\n",
        "    \"reg_alpha\": [0, 1, 10],\n",
        "    \"tree_method\": [\"auto\", \"exact\", \"approx\", \"hist\"],\n",
        "    \"n_estimators\": [50, 100, 150, 200, 250],\n",
        "    \"objective\": [\"binary:logistic\", \"binary:hinge\"]\n",
        "}\n",
        "\n",
        "estimator = xgb.XGBClassifier(random_state=0)\n",
        "best_params,best_model=hyperparameter_tuning(estimator,param_grid,train_df,train_labels)\n",
        "\n",
        "print('Best parameters chosen by grid search: ', best_params)\n",
        "\n",
        "accuracies,f1_scores,roc_aucs = tuned_scores(best_model,train_df,train_labels)\n",
        "print(f'\\nHaving an average ACCURACY {accuracies.mean()}\\n\\t\\t  F1 SCORE {f1_scores.mean()}\\n\\t\\t  ROC AUC  {roc_aucs.mean()}')"
      ]
    },
    {
      "cell_type": "code",
      "execution_count": null,
      "metadata": {
        "id": "09Atg9UelgqJ",
        "outputId": "49b698db-7d6f-4ef8-a1e3-b74e6cb62334"
      },
      "outputs": [
        {
          "name": "stdout",
          "output_type": "stream",
          "text": [
            "              precision    recall  f1-score   support\n",
            "\n",
            "           0       0.71      0.82      0.76        39\n",
            "           1       0.78      0.66      0.71        38\n",
            "\n",
            "    accuracy                           0.74        77\n",
            "   macro avg       0.75      0.74      0.74        77\n",
            "weighted avg       0.75      0.74      0.74        77\n",
            "\n"
          ]
        },
        {
          "data": {
            "image/png": "[encoded data removed]",
            "text/plain": [
              "<Figure size 640x480 with 2 Axes>"
            ]
          },
          "metadata": {},
          "output_type": "display_data"
        }
      ],
      "source": [
        "# Testing the tuned binary classifier on testing data\n",
        "\n",
        "testing(best_model,test_df,test_labels)"
      ]
    },
    {
      "cell_type": "code",
      "execution_count": null,
      "metadata": {
        "id": "RySY9Aps1bD0",
        "outputId": "6fe28393-b30b-4153-90ea-a7181c65f7e4"
      },
      "outputs": [
        {
          "name": "stdout",
          "output_type": "stream",
          "text": [
            "Accuracy:       0.7402597402597403\n",
            "Precision:      0.78125\n",
            "Recall:         0.6578947368421053\n",
            "F1 Score:       0.7142857142857143\n",
            "ROC-AUC Score:  0.7392037786774629\n",
            "\n"
          ]
        },
        {
          "data": {
            "image/png": "[encoded data removed]",
            "text/plain": [
              "<Figure size 800x600 with 1 Axes>"
            ]
          },
          "metadata": {},
          "output_type": "display_data"
        }
      ],
      "source": [
        "# Evaluating the binary classifier performance using various metrics & plotting the ROC curve\n",
        "\n",
        "accuracy,precision,recall,f1,roc_auc=binary_classifier_scores(best_model,test_df,test_labels)\n",
        "\n",
        "print(f'Accuracy:       {accuracy}')\n",
        "print(f'Precision:      {precision}')\n",
        "print(f'Recall:         {recall}')\n",
        "print(f'F1 Score:       {f1}')\n",
        "print(f'ROC-AUC Score:  {roc_auc}\\n')\n",
        "\n",
        "plot_binary_roc_curve(best_model,test_df,test_labels)"
      ]
    },
    {
      "cell_type": "markdown",
      "metadata": {
        "id": "cI7kG0MKAYLw"
      },
      "source": [
        "## Multi-class classifier"
      ]
    },
    {
      "cell_type": "code",
      "execution_count": null,
      "metadata": {
        "id": "IDfDUy3sAYLw",
        "outputId": "67c487fc-c2b2-46e8-a224-38f639b5b9e3"
      },
      "outputs": [
        {
          "name": "stdout",
          "output_type": "stream",
          "text": [
            "       rpmJ  rpsJ  rplB  rpmE2  rpsG  rplO  rpsF  rplP  rplN  atpE  ...  \\\n",
            "AA1       1     1     1      1     1     1     1     1     1     1  ...   \n",
            "AA100     1     1     1      1     1     1     1     1     1     1  ...   \n",
            "AA102     1     1     1      1     1     1     1     1     1     1  ...   \n",
            "AA103     1     1     1      1     1     1     1     1     1     1  ...   \n",
            "AA11      1     1     1      1     1     1     1     1     1     1  ...   \n",
            "\n",
            "       group_9986  group_9987  group_9990  group_9992  group_9994  group_9996  \\\n",
            "AA1             0           0           0           0           0           0   \n",
            "AA100           0           0           0           0           0           0   \n",
            "AA102           0           0           0           0           0           0   \n",
            "AA103           0           0           0           0           0           0   \n",
            "AA11            0           0           0           0           0           0   \n",
            "\n",
            "       group_9997  ydjI  group_9999  Label  \n",
            "AA1             0     0           0      3  \n",
            "AA100           0     0           0      3  \n",
            "AA102           0     0           0      3  \n",
            "AA103           0     0           0      2  \n",
            "AA11            0     0           0      1  \n",
            "\n",
            "[5 rows x 11261 columns]\n",
            "(178, 11261)\n",
            "(178,)\n"
          ]
        }
      ],
      "source": [
        "# Fetching the gene presence/absence dataframe with multiclass labels\n",
        "\n",
        "df_all,labels_all=fetch_all_df_and_multilabels()\n",
        "\n",
        "print(df_all.head())\n",
        "print(df_all.shape)\n",
        "print(labels_all.shape)"
      ]
    },
    {
      "cell_type": "code",
      "execution_count": null,
      "metadata": {
        "id": "0AO1TYBzAYLw",
        "outputId": "0d841ea5-8373-4aa1-8d03-d0ac5ef6c1f0"
      },
      "outputs": [
        {
          "name": "stdout",
          "output_type": "stream",
          "text": [
            "       rpmJ  rpsJ  rplB  rpmE2  rpsG  rplO  rpsF  rplP  rplN  atpE  ...  \\\n",
            "AA1       1     1     1      1     1     1     1     1     1     1  ...   \n",
            "AA100     1     1     1      1     1     1     1     1     1     1  ...   \n",
            "AA102     1     1     1      1     1     1     1     1     1     1  ...   \n",
            "AA103     1     1     1      1     1     1     1     1     1     1  ...   \n",
            "AA11      1     1     1      1     1     1     1     1     1     1  ...   \n",
            "\n",
            "       splD_1  cysC  eutB  lepB  flgE  purA_2  greA_2  pdp_2  ydjI  Label  \n",
            "AA1         0     0     0     0     0       0       0      0     0      3  \n",
            "AA100       0     0     0     0     0       0       0      0     0      3  \n",
            "AA102       0     0     0     0     0       0       0      0     0      3  \n",
            "AA103       0     0     0     0     0       0       0      0     0      2  \n",
            "AA11        0     0     0     0     0       0       0      0     0      1  \n",
            "\n",
            "[5 rows x 2570 columns]\n",
            "(178, 2570)\n"
          ]
        }
      ],
      "source": [
        "# Removing all hypothetical genes having prefix \"group_\"\n",
        "\n",
        "df_all=remove_group_genes(df_all)\n",
        "print(df_all.head())\n",
        "print(df_all.shape)"
      ]
    },
    {
      "cell_type": "code",
      "execution_count": null,
      "metadata": {
        "id": "xsRFygOBAYLx",
        "outputId": "8123575c-0a99-43aa-8752-dc45fc72cffd"
      },
      "outputs": [
        {
          "name": "stdout",
          "output_type": "stream",
          "text": [
            "Class Distribution After RandomOverSampler:\n",
            "Label\n",
            "3    74\n",
            "2    74\n",
            "1    74\n",
            "0    74\n",
            "Name: count, dtype: int64\n"
          ]
        }
      ],
      "source": [
        "# Performing SMOTE oversampling of the minor classes to the majority class\n",
        "\n",
        "df_all_res,labels_all_res=SMOTE_oversampling(df_all,labels_all)\n",
        "\n",
        "class_counts_resampled = pd.Series(labels_all_res).value_counts()\n",
        "print(f\"Class Distribution After RandomOverSampler:\\n{class_counts_resampled}\")"
      ]
    },
    {
      "cell_type": "code",
      "execution_count": null,
      "metadata": {
        "id": "jWLSM2GlAYLx",
        "outputId": "7da9c416-cb50-47c5-83b9-f2da41effede"
      },
      "outputs": [
        {
          "name": "stdout",
          "output_type": "stream",
          "text": [
            "Number of samples within each class:\t\t\t\t\t  (array([0, 1, 2, 3], dtype=int64), array([74, 74, 74, 74], dtype=int64))\n",
            "Number of samples within each class in training dataframe (stratified):\t  (array([0, 1, 2, 3], dtype=int64), array([51, 52, 52, 52], dtype=int64))\n",
            "Number of samples within each class in testing dataframe (stratified):\t  (array([0, 1, 2, 3], dtype=int64), array([23, 22, 22, 22], dtype=int64))\n"
          ]
        }
      ],
      "source": [
        "# Preparing the training and testing dataframes\n",
        "\n",
        "train_df,test_df,train_labels,test_labels=traintest_split(df_all_res,labels_all_res)\n",
        "print('Number of samples within each class:\\t\\t\\t\\t\\t ' , np.unique(labels_all_res, return_counts=True))\n",
        "print('Number of samples within each class in training dataframe (stratified):\\t ' , np.unique(train_labels, return_counts=True))\n",
        "print('Number of samples within each class in testing dataframe (stratified):\\t ', np.unique(test_labels, return_counts=True))"
      ]
    },
    {
      "cell_type": "code",
      "execution_count": null,
      "metadata": {
        "id": "M9Nt8_X3AYLx",
        "outputId": "e6911801-87cd-40f0-fef9-98f15942f039"
      },
      "outputs": [
        {
          "name": "stdout",
          "output_type": "stream",
          "text": [
            "Time taken to perform RFE = 77.56870117584864 minutes\n",
            "Number of features selected = 228\n"
          ]
        }
      ],
      "source": [
        "# Performing feature selection using Recursive Feature Elimination with Cross Validation\n",
        "\n",
        "estimator = xgb.XGBClassifier(random_state=0)\n",
        "selected_features,num_features=feature_selection_RFE(estimator,train_df,train_labels)\n",
        "print('Number of features selected =',num_features)"
      ]
    },
    {
      "cell_type": "code",
      "execution_count": null,
      "metadata": {
        "id": "yvnyTVMSAYLy",
        "outputId": "f0d45225-640b-4df1-cda9-c18f66ce7994"
      },
      "outputs": [
        {
          "name": "stdout",
          "output_type": "stream",
          "text": [
            "(207, 228)\n",
            "(89, 228)\n",
            "['yvyI', 'nagP', 'tag', 'purN', 'cpdA_1', 'narH', 'purD', 'crtM', 'yiiM', 'mhqD', 'nreC', 'rsmB', 'mgtE', 'secE', 'rpmF', 'glpQ_1', 'abgT', 'tarI1', 'thiK', 'hchA', 'mrpB', 'iolS', 'srrA', 'crr', 'acuC', 'arcB', 'rsuA', 'katA', 'isdA', 'ytnP', 'ydjZ', 'glcK', 'tcyP', 'phnE_1', 'rplGA', 'fetA', 'isdH', 'trmB', 'nfuA', 'dltA', 'rsgA', 'hdl IVa', 'rnmV_2', 'mreC', 'adh', 'nhaK_1', 'spsB_1', 'hemW', 'sbnE_2', 'sirB', 'tig', 'mecA_1', 'rihB', 'mprF', 'mnaA_1', 'sdhC', 'ythB', 'azo1', 'fepC', 'comEA', 'rnhB', 'valS', 'mdrP', 'clfB', 'yokF', 'dapE', 'bceB_1', 'cycA_2', 'nudG', 'splB', 'treP_2', 'dapX', 'ybbH_3', 'farB_2', 'argR_1', 'wbjC', 'baiN', 'yajO', 'nixA', 'folA', 'capD', 'murJ', 'dppC', 'mhqA_2', 'ypcP', 'isdE', 'murD', 'ykoC', 'ctaB2', 'ppaC', 'tetA', 'kdpB', 'tarS', 'dgk', 'sigS', 'addB', 'yydK', 'rsbU', 'ssl7_2', 'lip2', 'gpsA', 'dltD', 'kdpA', 'bglA', 'icaC', 'ssl5_1', 'sbi', 'ftsK', 'desK', 'gabR', 'arsB', 'feoB', 'nanA', 'rnj1', 'uvrC', 'deoC1', 'rhaS_2', 'phrB', 'arg', 'mepA', 'opuD_3', 'grsB', 'lukDv', 'cls_2', 'sdrD', 'yydI', 'arlR', 'opuCB', 'adhE', 'thyA', 'isdB', 'trmK', 'sdrE', 'sbcD', 'essB', 'yjdF', 'ltaA', 'oatA_2', 'coiA', 'catD', 'sarU', 'pheT', 'ricR', 'sirC', 'ilvD', 'sraP', 'gloB', 'ykoD_1', 'ettA', 'yafV', 'gsiA', 'blaZ', 'ktrB', 'pre_2', 'gamR', 'cadC', 'essG_3', 'hsdM_2', 'appA', 'bin3', 'hlgC_2', 'entA_1', 'splC', 'ggt', 'recQ_1', 'yknY', 'icaB', 'tet(K)', 'arsC', 'hsdM', 'fhuD_2', 'ssl1', 'ecfT', 'norB_4', 'xerC_2', 'splF', 'uvrB_1', 'dus', 'ebh_2', 'sdrC', 'blaR1-2', 'agrB', 'aadK', 'emp', 'fhuD', 'tarM', 'licR', 'nisB', 'prmC_1', 'infB_2', 'aacA-aphD', 'hsdM_1', 'pnp_2', 'smc_1', 'bcrA', \"ermC'\", 'essG_2', 'bceB_2', 'ssbA_4', 'yoaA', 'cdnE', 'betI', 'dppB', 'lytO', 'bin3_1', 'ssl3_2', 'entG', 'dppD', 'lpl2_7', 'ddpF', 'repD', 'entD', 'pre', 'IMPDH_2', 'femB_2', 'bcgIA', 'leuA_2', 'thyA_2', 'potH', 'hin_1', 'ydeA', 'dus_1', 'dppE_1', 'lpl2_6', 'arsB_2', 'yfmC_3', 'prmC_3', 'strA']\n"
          ]
        }
      ],
      "source": [
        "# Retaining the selected features in the training and testing dataframes\n",
        "\n",
        "train_df,test_df,features_to_keep = retain_selected_features(train_df,test_df,selected_features)\n",
        "\n",
        "print(train_df.shape)\n",
        "print(test_df.shape)\n",
        "print(features_to_keep)"
      ]
    },
    {
      "cell_type": "code",
      "execution_count": null,
      "metadata": {
        "id": "PwxDUHjqAYLy",
        "outputId": "d91d96c7-379c-4ce8-d2b7-008736e0b046"
      },
      "outputs": [
        {
          "name": "stdout",
          "output_type": "stream",
          "text": [
            "Baseline ACCURACY = 0.7390243902439024\n",
            "Baseline F1 SCORE = 0.7401736636311423\n",
            "Baseline ROC AUC = nan\n"
          ]
        }
      ],
      "source": [
        "# Determining baseline classification scores before hyperparameter tuning\n",
        "\n",
        "estimator = xgb.XGBClassifier(random_state=0)\n",
        "\n",
        "baseline_accuracy,baseline_f1,baseline_roc_auc=baseline_scores(estimator,train_df,train_labels)\n",
        "print(f'Baseline ACCURACY = {baseline_accuracy}')\n",
        "print(f'Baseline F1 SCORE = {baseline_f1}')\n",
        "print(f'Baseline ROC AUC = {baseline_roc_auc}')"
      ]
    },
    {
      "cell_type": "code",
      "execution_count": null,
      "metadata": {
        "id": "PtzLhzCLAYLy",
        "outputId": "05a82865-35b5-4cd8-e9a5-788b3d5f53bf"
      },
      "outputs": [
        {
          "name": "stdout",
          "output_type": "stream",
          "text": [
            "Best parameters chosen by grid search:  {'gamma': 0, 'learning_rate': 0.4, 'max_depth': 5, 'n_estimators': 100, 'objective': 'binary:logistic', 'reg_alpha': 0, 'reg_lambda': 1, 'tree_method': 'auto'}\n",
            "\n",
            "Having an average ACCURACY 0.7824622531939605\n",
            "\t\t  F1 SCORE 0.7840232756892913\n",
            "\t\t  ROC AUC  nan\n"
          ]
        }
      ],
      "source": [
        "# Performing hyperparameter tuning using GridSearchCV\n",
        "\n",
        "param_grid = {\n",
        "    \"learning_rate\": [0.1, 0.2, 0.3, 0.4, 0.5],\n",
        "    \"gamma\": [0, 1, 10],\n",
        "    \"max_depth\": [1, 2, 3, 4, 5, 6],\n",
        "    \"reg_lambda\": [1, 10],\n",
        "    \"reg_alpha\": [0, 1, 10],\n",
        "    \"tree_method\": [\"auto\", \"exact\", \"approx\", \"hist\"],\n",
        "    \"n_estimators\": [50, 100, 150, 200, 250],\n",
        "    \"objective\": [\"binary:logistic\", \"binary:hinge\"]\n",
        "}\n",
        "\n",
        "estimator = xgb.XGBClassifier(random_state=0)\n",
        "best_params,best_model=hyperparameter_tuning(estimator,param_grid,train_df,train_labels)\n",
        "\n",
        "print('Best parameters chosen by grid search: ', best_params)\n",
        "accuracies,f1_scores,roc_aucs = tuned_scores(best_model,train_df,train_labels)\n",
        "print(f'\\nHaving an average ACCURACY {accuracies.mean()}\\n\\t\\t  F1 SCORE {f1_scores.mean()}\\n\\t\\t  ROC AUC  {roc_aucs.mean()}')"
      ]
    },
    {
      "cell_type": "code",
      "execution_count": null,
      "metadata": {
        "id": "OYg8W32eAYLz",
        "outputId": "14abd1c4-e401-46ee-da1d-efcedee8c878"
      },
      "outputs": [
        {
          "name": "stdout",
          "output_type": "stream",
          "text": [
            "              precision    recall  f1-score   support\n",
            "\n",
            "           0       0.92      1.00      0.96        23\n",
            "           1       0.70      0.73      0.71        22\n",
            "           2       0.65      0.50      0.56        22\n",
            "           3       0.54      0.59      0.57        22\n",
            "\n",
            "    accuracy                           0.71        89\n",
            "   macro avg       0.70      0.70      0.70        89\n",
            "weighted avg       0.70      0.71      0.70        89\n",
            "\n"
          ]
        },
        {
          "data": {
            "image/png": "[encoded data removed]",
            "text/plain": [
              "<Figure size 640x480 with 2 Axes>"
            ]
          },
          "metadata": {},
          "output_type": "display_data"
        }
      ],
      "source": [
        "# Testing the tuned multiclass classifier on testing data\n",
        "\n",
        "testing(best_model,test_df,test_labels)"
      ]
    },
    {
      "cell_type": "code",
      "execution_count": null,
      "metadata": {
        "id": "jvBDEr3x1bD9",
        "outputId": "2b435545-32b2-4263-b61d-a8bfef7f9282"
      },
      "outputs": [
        {
          "name": "stdout",
          "output_type": "stream",
          "text": [
            "Accuracy:       0.7078651685393258\n",
            "Precision:      0.7010944160272804\n",
            "Recall:         0.7045454545454546\n",
            "F1 Score:       0.6996910999628391\n",
            "ROC-AUC Score:  0.9102830708119483\n",
            "\n"
          ]
        },
        {
          "data": {
            "image/png": "[encoded data removed]",
            "text/plain": [
              "<Figure size 800x600 with 1 Axes>"
            ]
          },
          "metadata": {},
          "output_type": "display_data"
        }
      ],
      "source": [
        "# Evaluating the multiclass classifier performance using various metrics & plotting the ROC curve\n",
        "\n",
        "accuracy,precision,recall,f1,roc_auc=multiclass_classifier_scores(best_model,test_df,test_labels)\n",
        "\n",
        "print(f'Accuracy:       {accuracy}')\n",
        "print(f'Precision:      {precision}')\n",
        "print(f'Recall:         {recall}')\n",
        "print(f'F1 Score:       {f1}')\n",
        "print(f'ROC-AUC Score:  {roc_auc}\\n')\n",
        "\n",
        "plot_multiclass_roc_curve(best_model,test_df,test_labels)"
      ]
    }
  ],
  "metadata": {
    "colab": {
      "collapsed_sections": [
        "QbcfkBEplinf",
        "cbzS_IuPlrDC"
      ],
      "provenance": []
    },
    "kernelspec": {
      "display_name": "Python 3",
      "language": "python",
      "name": "python3"
    },
    "language_info": {
      "codemirror_mode": {
        "name": "ipython",
        "version": 3
      },
      "file_extension": ".py",
      "mimetype": "text/x-python",
      "name": "python",
      "nbconvert_exporter": "python",
      "pygments_lexer": "ipython3",
      "version": "3.12.1"
    }
  },
  "nbformat": 4,
  "nbformat_minor": 0
}
