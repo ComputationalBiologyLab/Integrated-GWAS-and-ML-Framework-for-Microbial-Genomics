{
  "cells": [
    {
      "cell_type": "markdown",
      "metadata": {},
      "source": [
        "# <center>**Code for construction of Logistic Regression binary & multiclass classifiers**<center>"
      ]
    },
    {
      "cell_type": "markdown",
      "metadata": {},
      "source": [
        "# Import Statements"
      ]
    },
    {
      "cell_type": "code",
      "execution_count": null,
      "metadata": {
        "id": "F68bh3czlgpd"
      },
      "outputs": [],
      "source": [
        "import time\n",
        "import warnings\n",
        "import pandas as pd\n",
        "import numpy as np\n",
        "import matplotlib.pyplot as plt\n",
        "from sklearn.linear_model import LogisticRegression\n",
        "from imblearn.over_sampling import SMOTE\n",
        "from sklearn.model_selection import train_test_split, cross_val_score, GridSearchCV\n",
        "from sklearn.metrics import classification_report, ConfusionMatrixDisplay\n",
        "from sklearn.metrics import accuracy_score, precision_score, recall_score, f1_score, roc_auc_score, roc_curve, auc\n",
        "from sklearn.feature_selection import RFECV\n",
        "from sklearn.preprocessing import label_binarize"
      ]
    },
    {
      "cell_type": "markdown",
      "metadata": {
        "id": "I-i23eYolgpj"
      },
      "source": [
        "# Helper Functions"
      ]
    },
    {
      "cell_type": "markdown",
      "metadata": {
        "id": "QbcfkBEplinf"
      },
      "source": [
        "## Fetching inputs"
      ]
    },
    {
      "cell_type": "code",
      "execution_count": null,
      "metadata": {
        "id": "JDDMjwIklgpl"
      },
      "outputs": [],
      "source": [
        "# Function to fetch the gene presence/absence dataframe and append the binary labels\n",
        "\n",
        "def fetch_all_dataframe_and_labels():\n",
        "    df_all = pd.read_csv('gene_presence_absence.Rtab', sep='\\t', index_col=0)\n",
        "    df_all=df_all.tranpose()\n",
        "    \n",
        "    labels_all = pd.read_csv('biofilm_pheno_binary.tsv', sep='\\t', index_col=0)\n",
        "\n",
        "    exc_all=[idx for idx in df_all.index if idx not in labels_all.index]\n",
        "    df_all=df_all.drop(index=exc_all)\n",
        "\n",
        "    df_all['Label']=labels_all\n",
        "    labels_all=df_all.loc[:,'Label']\n",
        "\n",
        "    return df_all,labels_all"
      ]
    },
    {
      "cell_type": "code",
      "execution_count": null,
      "metadata": {
        "id": "c9FfnYp1HRCc"
      },
      "outputs": [],
      "source": [
        "# Function to fetch the gene presence/absence dataframe and append the multiclass labels\n",
        "\n",
        "def fetch_all_df_and_multilabels():\n",
        "    df_all = pd.read_csv('gene_presence_absence.Rtab', sep='\\t', index_col=0)\n",
        "    df_all=df_all.tranpose()\n",
        "    \n",
        "    labels_all = pd.read_csv('biofilm_pheno_multi.tsv', sep='\\t', index_col=0)\n",
        "\n",
        "    exc_all=[idx for idx in df_all.index if idx not in labels_all.index]\n",
        "    df_all=df_all.drop(index=exc_all)\n",
        "\n",
        "    df_all['Label']=labels_all\n",
        "    labels_all=df_all.loc[:,'Label']\n",
        "\n",
        "    return df_all,labels_all"
      ]
    },
    {
      "cell_type": "markdown",
      "metadata": {
        "id": "cbzS_IuPlrDC"
      },
      "source": [
        "## Processing"
      ]
    },
    {
      "cell_type": "code",
      "execution_count": null,
      "metadata": {
        "id": "dWJcr55glgpw"
      },
      "outputs": [],
      "source": [
        "# Function to remove all hypothetical genes having prefix \"group_\"\n",
        "\n",
        "def remove_group_genes(df):\n",
        "    grp=[]\n",
        "    for gene in df.columns:\n",
        "        if gene.startswith('group_'):\n",
        "            grp.append(gene)\n",
        "\n",
        "    df=df.drop(columns=grp)\n",
        "\n",
        "    return df"
      ]
    },
    {
      "cell_type": "code",
      "execution_count": null,
      "metadata": {
        "id": "8gRVUSiUlgpw"
      },
      "outputs": [],
      "source": [
        "# Function to perform SMOTE oversampling\n",
        "\n",
        "def SMOTE_oversampling(df,labels):\n",
        "    smote = SMOTE(random_state=0)\n",
        "    df_res, labels_res = smote.fit_resample(df,labels)\n",
        "\n",
        "    return df_res, labels_res"
      ]
    },
    {
      "cell_type": "code",
      "execution_count": null,
      "metadata": {
        "id": "fh7H8q65lgpw"
      },
      "outputs": [],
      "source": [
        "# Function to prepare the training and testing dataframes & their corresponding labels\n",
        "\n",
        "def traintest_split(df, labels, train=0.7, test=0.3):\n",
        "    if 'Label' not in df.columns:\n",
        "        df=pd.concat([df,labels],axis=1)\n",
        "\n",
        "    train_df, test_df = train_test_split(df, train_size=train, test_size=test, random_state=0, stratify=df.loc[:,'Label'])\n",
        "    train_labels = train_df.loc[:,'Label']\n",
        "    test_labels = test_df.loc[:,'Label']\n",
        "\n",
        "    train_df = train_df.drop(labels='Label', axis=1)\n",
        "    test_df = test_df.drop(labels='Label', axis=1)\n",
        "\n",
        "    return train_df,test_df,train_labels,test_labels"
      ]
    },
    {
      "cell_type": "code",
      "execution_count": null,
      "metadata": {
        "id": "NvFd6AE0tSXR"
      },
      "outputs": [],
      "source": [
        "# Function to perform feature selection using Recursive Feature Elimination with Cross Validation\n",
        "\n",
        "def feature_selection_RFE(estimator,train_df, train_labels, step_size=1, scoring_metric='accuracy', threads=36):\n",
        "    if 'Label' in train_df.columns:\n",
        "        train_df=train_df.drop(columns=['Label'])\n",
        "\n",
        "    start_time = time.time()\n",
        "\n",
        "    selector = RFECV(estimator, step=step_size, cv=5, scoring=scoring_metric, n_jobs=threads)\n",
        "\n",
        "    feature_subset = selector.fit(train_df, train_labels)\n",
        "\n",
        "    end_time = time.time()\n",
        "    elapsed_time_minutes = (end_time - start_time) / 60\n",
        "\n",
        "    print(f'Time taken to perform RFE = {elapsed_time_minutes} minutes')\n",
        "\n",
        "    return feature_subset, selector.n_features_"
      ]
    },
    {
      "cell_type": "code",
      "execution_count": null,
      "metadata": {
        "id": "qK_d8RG5lgpx"
      },
      "outputs": [],
      "source": [
        "# Function to drop the features that were not chosen by RFECV from the training and testing dataframes\n",
        "\n",
        "def retain_selected_features(train_df,test_df,RFE_output):\n",
        "    bool_feature_subset=RFE_output.get_support()\n",
        "    features_to_drop_indices=[idx for idx in range(len(bool_feature_subset)) if bool_feature_subset[idx] == False]\n",
        "    features_to_drop=[train_df.columns[feature_idx] for feature_idx in features_to_drop_indices]\n",
        "    features_to_keep_indices=[idx for idx in range(len(bool_feature_subset)) if bool_feature_subset[idx] == True]\n",
        "    features_to_keep=[train_df.columns[feature_idx] for feature_idx in features_to_keep_indices]\n",
        "\n",
        "    train_df = train_df.drop(columns=features_to_drop)\n",
        "    test_df = test_df.drop(columns=features_to_drop)\n",
        "\n",
        "    return train_df, test_df, features_to_keep"
      ]
    },
    {
      "cell_type": "code",
      "execution_count": null,
      "metadata": {
        "id": "4y8ibiDhlgpx"
      },
      "outputs": [],
      "source": [
        "# Function to determine baseline classification scores before hyperparameter tuning\n",
        "\n",
        "def baseline_scores(estimator,train_df,train_labels):\n",
        "    warnings.filterwarnings('ignore')\n",
        "\n",
        "    baseline_accuracy = cross_val_score(estimator, train_df, train_labels, cv=5, scoring='accuracy')\n",
        "    baseline_f1 = cross_val_score(estimator, train_df, train_labels, cv=5, scoring='f1_weighted')\n",
        "    baseline_rocauc = cross_val_score(estimator, train_df, train_labels, cv=5, scoring='roc_auc')\n",
        "\n",
        "    return baseline_accuracy.mean(), baseline_f1.mean(), baseline_rocauc.mean()"
      ]
    },
    {
      "cell_type": "code",
      "execution_count": null,
      "metadata": {
        "id": "mHIfBTW0lgpy"
      },
      "outputs": [],
      "source": [
        "# Function to perform hyperparameter tuning using GridSearchCV\n",
        "\n",
        "def hyperparameter_tuning(estimator, param_grid, train_df,train_labels):\n",
        "    grid_search = GridSearchCV(estimator, param_grid, cv=5, scoring='accuracy', n_jobs=36)\n",
        "    grid_search.fit(train_df, train_labels)\n",
        "\n",
        "    grid_results_df=pd.DataFrame(grid_search.cv_results_)[['mean_test_score', 'std_test_score', 'params']]\n",
        "    best_params_grid = grid_search.best_params_\n",
        "    best_model_grid = grid_search.best_estimator_\n",
        "\n",
        "    return best_params_grid, best_model_grid"
      ]
    },
    {
      "cell_type": "code",
      "execution_count": null,
      "metadata": {
        "id": "jpxfeIn2lgpy"
      },
      "outputs": [],
      "source": [
        "# Function to determine classification scores after hyperparameter tuning\n",
        "\n",
        "def tuned_scores(best_model_grid, train_df, train_labels):\n",
        "    warnings.filterwarnings('ignore')\n",
        "\n",
        "    cv_accuracy_tuned = cross_val_score(best_model_grid, train_df, train_labels, cv=5, scoring='accuracy')\n",
        "    cv_f1_tuned = cross_val_score(best_model_grid, train_df, train_labels, cv=5, scoring='f1_weighted')\n",
        "    cv_roc_auc_tuned = cross_val_score(best_model_grid, train_df, train_labels, cv=5, scoring='roc_auc')\n",
        "\n",
        "    return cv_accuracy_tuned, cv_f1_tuned, cv_roc_auc_tuned"
      ]
    },
    {
      "cell_type": "code",
      "execution_count": null,
      "metadata": {
        "id": "s8FKDlROlgpy"
      },
      "outputs": [],
      "source": [
        "# Function to test the model on the testing data\n",
        "\n",
        "def testing(model, test_df, test_labels):\n",
        "    model_predictions = model.predict(test_df)\n",
        "\n",
        "    print(classification_report(test_labels, model_predictions))\n",
        "\n",
        "    disp = ConfusionMatrixDisplay.from_predictions(test_labels, model_predictions, labels=model.classes_, cmap='Blues')"
      ]
    },
    {
      "cell_type": "code",
      "execution_count": null,
      "metadata": {
        "id": "bTBBGYACHRCh"
      },
      "outputs": [],
      "source": [
        "# Function to evaluate binary classifier performance using various metrics (accuracy, precision, recall, f1, roc_auc)\n",
        "\n",
        "def binary_classifier_scores(best_model, test_df, test_labels):\n",
        "    y_pred=best_model.predict(test_df)\n",
        "    y_prob=best_model.predict_proba(test_df)[:, 1]\n",
        "\n",
        "    accuracy = accuracy_score(test_labels, y_pred)\n",
        "    precision = precision_score(test_labels, y_pred)\n",
        "    recall = recall_score(test_labels, y_pred)\n",
        "    f1 = f1_score(test_labels, y_pred)\n",
        "    roc_auc = roc_auc_score(test_labels, y_prob)\n",
        "\n",
        "    return(accuracy,precision,recall,f1,roc_auc)"
      ]
    },
    {
      "cell_type": "code",
      "execution_count": null,
      "metadata": {
        "id": "5I9MMpddHRCh"
      },
      "outputs": [],
      "source": [
        "# Function to plot the ROC curve for the binary classifier\n",
        "\n",
        "def plot_binary_roc_curve(best_model, test_df, test_labels):\n",
        "    y_pred=best_model.predict(test_df)\n",
        "    y_prob=best_model.predict_proba(test_df)[:, 1]\n",
        "    fpr, tpr, thresholds = roc_curve(test_labels, y_prob)\n",
        "\n",
        "    roc_auc = auc(fpr, tpr)\n",
        "\n",
        "    plt.figure(figsize=(8, 6))\n",
        "    plt.plot(fpr, tpr, color='b', lw=2, label=f'ROC curve (AUC = {roc_auc:.4f})')\n",
        "    plt.plot([0, 1], [0, 1], color='gray', linestyle='--')\n",
        "    plt.xlim([0.0, 1.0])\n",
        "    plt.ylim([0.0, 1.05])\n",
        "    plt.xlabel('False Positive Rate')\n",
        "    plt.ylabel('True Positive Rate')\n",
        "    plt.title('Receiver Operating Characteristic (ROC) Curve')\n",
        "    plt.legend(loc='lower right')\n",
        "    plt.grid(True)\n",
        "    plt.show()"
      ]
    },
    {
      "cell_type": "code",
      "execution_count": null,
      "metadata": {
        "id": "srxxSg4YHRCh"
      },
      "outputs": [],
      "source": [
        "# Function to evaluate multiclass classifier performance using various metrics (accuracy, precision, recall, f1, roc_auc)\n",
        "\n",
        "def multiclass_classifier_scores(best_model, test_df, test_labels):\n",
        "    y_pred = best_model.predict(test_df)\n",
        "    y_prob = best_model.predict_proba(test_df)\n",
        "\n",
        "    accuracy = accuracy_score(test_labels, y_pred)\n",
        "\n",
        "    # Precision, Recall, F1 - using 'macro' average for multi-class\n",
        "    precision = precision_score(test_labels, y_pred, average='macro')\n",
        "    recall = recall_score(test_labels, y_pred, average='macro')\n",
        "    f1 = f1_score(test_labels, y_pred, average='macro')\n",
        "\n",
        "    y_test_bin = label_binarize(test_labels, classes=[0, 1, 2, 3])\n",
        "    roc_auc = roc_auc_score(y_test_bin, y_prob, average='macro', multi_class='ovr')\n",
        "\n",
        "    return accuracy, precision, recall, f1, roc_auc"
      ]
    },
    {
      "cell_type": "code",
      "execution_count": null,
      "metadata": {
        "id": "K3x-43fwHRCi"
      },
      "outputs": [],
      "source": [
        "# Function to plot the ROC curve for the multiclass classifier\n",
        "\n",
        "def plot_multiclass_roc_curve(best_model, test_df, test_labels):\n",
        "    y_pred = best_model.predict(test_df)\n",
        "    y_prob = best_model.predict_proba(test_df)\n",
        "\n",
        "    y_test_bin = label_binarize(test_labels, classes=[0, 1, 2, 3])\n",
        "\n",
        "    n_classes = y_test_bin.shape[1]\n",
        "    fpr = dict()\n",
        "    tpr = dict()\n",
        "    roc_auc = dict()\n",
        "\n",
        "    for i in range(n_classes):\n",
        "        fpr[i], tpr[i], _ = roc_curve(y_test_bin[:, i], y_prob[:, i])\n",
        "        roc_auc[i] = auc(fpr[i], tpr[i])\n",
        "\n",
        "    plt.figure(figsize=(8, 6))\n",
        "    for i in range(n_classes):\n",
        "        plt.plot(fpr[i], tpr[i], lw=2, label=f'Class {i} (AUC = {roc_auc[i]:.4f})')\n",
        "\n",
        "    plt.plot([0, 1], [0, 1], color='gray', linestyle='--')\n",
        "    plt.xlim([0.0, 1.0])\n",
        "    plt.ylim([0.0, 1.05])\n",
        "    plt.xlabel('False Positive Rate')\n",
        "    plt.ylabel('True Positive Rate')\n",
        "    plt.title('Receiver Operating Characteristic (ROC) Curve for Multi-Class')\n",
        "    plt.legend(loc='lower right')\n",
        "    plt.grid(True)\n",
        "    plt.show()\n"
      ]
    },
    {
      "cell_type": "markdown",
      "metadata": {
        "id": "q9TWyNzKoBZV"
      },
      "source": [
        "# Main Code"
      ]
    },
    {
      "cell_type": "markdown",
      "metadata": {
        "id": "eYtaC83Glgp9"
      },
      "source": [
        "## Binary classifier"
      ]
    },
    {
      "cell_type": "code",
      "execution_count": null,
      "metadata": {
        "id": "Zhnh7UMklgqG",
        "outputId": "202a791c-78b1-4046-c8b9-eeb018216f83"
      },
      "outputs": [
        {
          "name": "stdout",
          "output_type": "stream",
          "text": [
            "       rpmJ  rpsJ  rplB  rpmE2  rpsG  rplO  rpsF  rplP  rplN  atpE  ...  \\\n",
            "AA1       1     1     1      1     1     1     1     1     1     1  ...   \n",
            "AA100     1     1     1      1     1     1     1     1     1     1  ...   \n",
            "AA102     1     1     1      1     1     1     1     1     1     1  ...   \n",
            "AA103     1     1     1      1     1     1     1     1     1     1  ...   \n",
            "AA11      1     1     1      1     1     1     1     1     1     1  ...   \n",
            "\n",
            "       group_9986  group_9987  group_9990  group_9992  group_9994  group_9996  \\\n",
            "AA1             0           0           0           0           0           0   \n",
            "AA100           0           0           0           0           0           0   \n",
            "AA102           0           0           0           0           0           0   \n",
            "AA103           0           0           0           0           0           0   \n",
            "AA11            0           0           0           0           0           0   \n",
            "\n",
            "       group_9997  ydjI  group_9999  Label  \n",
            "AA1             0     0           0      1  \n",
            "AA100           0     0           0      1  \n",
            "AA102           0     0           0      1  \n",
            "AA103           0     0           0      1  \n",
            "AA11            0     0           0      0  \n",
            "\n",
            "[5 rows x 11261 columns]\n",
            "(178, 11261)\n",
            "(178,)\n"
          ]
        }
      ],
      "source": [
        "# Fetching the gene presence/absence dataframe with binary labels\n",
        "\n",
        "df_all,labels_all=fetch_all_dataframe_and_labels()\n",
        "\n",
        "print(df_all.head())\n",
        "print(df_all.shape)\n",
        "print(labels_all.shape)"
      ]
    },
    {
      "cell_type": "code",
      "execution_count": null,
      "metadata": {
        "id": "vyZ773BylgqG",
        "outputId": "fc00b533-90f5-444f-9ce8-4a16a6cbf877"
      },
      "outputs": [
        {
          "name": "stdout",
          "output_type": "stream",
          "text": [
            "       rpmJ  rpsJ  rplB  rpmE2  rpsG  rplO  rpsF  rplP  rplN  atpE  ...  \\\n",
            "AA1       1     1     1      1     1     1     1     1     1     1  ...   \n",
            "AA100     1     1     1      1     1     1     1     1     1     1  ...   \n",
            "AA102     1     1     1      1     1     1     1     1     1     1  ...   \n",
            "AA103     1     1     1      1     1     1     1     1     1     1  ...   \n",
            "AA11      1     1     1      1     1     1     1     1     1     1  ...   \n",
            "\n",
            "       splD_1  cysC  eutB  lepB  flgE  purA_2  greA_2  pdp_2  ydjI  Label  \n",
            "AA1         0     0     0     0     0       0       0      0     0      1  \n",
            "AA100       0     0     0     0     0       0       0      0     0      1  \n",
            "AA102       0     0     0     0     0       0       0      0     0      1  \n",
            "AA103       0     0     0     0     0       0       0      0     0      1  \n",
            "AA11        0     0     0     0     0       0       0      0     0      0  \n",
            "\n",
            "[5 rows x 2570 columns]\n",
            "(178, 2570)\n"
          ]
        }
      ],
      "source": [
        "# Removing all hypothetical genes having prefix \"group_\"\n",
        "\n",
        "df_all=remove_group_genes(df_all)\n",
        "print(df_all.head())\n",
        "print(df_all.shape)"
      ]
    },
    {
      "cell_type": "code",
      "execution_count": null,
      "metadata": {
        "id": "gFzktlC_lgqH",
        "outputId": "f2621644-5c58-4601-b591-b6bcfd1bb0a9"
      },
      "outputs": [
        {
          "name": "stdout",
          "output_type": "stream",
          "text": [
            "Class Distribution After RandomOverSampler:\n",
            "Label\n",
            "1    127\n",
            "0    127\n",
            "Name: count, dtype: int64\n"
          ]
        }
      ],
      "source": [
        "# Performing SMOTE oversampling of the minor class to the majority class\n",
        "\n",
        "df_all_res,labels_all_res=SMOTE_oversampling(df_all,labels_all)\n",
        "\n",
        "class_counts_resampled = pd.Series(labels_all_res).value_counts()\n",
        "print(f\"Class Distribution After RandomOverSampler:\\n{class_counts_resampled}\")"
      ]
    },
    {
      "cell_type": "code",
      "execution_count": null,
      "metadata": {
        "id": "G1bYLrOflgqH",
        "outputId": "132bede8-3db9-4688-e661-e7321bb9b17b"
      },
      "outputs": [
        {
          "name": "stdout",
          "output_type": "stream",
          "text": [
            "Number of samples within each class:\t\t\t\t\t  (array([0, 1], dtype=int64), array([127, 127], dtype=int64))\n",
            "Number of samples within each class in training dataframe (stratified):\t  (array([0, 1], dtype=int64), array([88, 89], dtype=int64))\n",
            "Number of samples within each class in testing dataframe (stratified):\t  (array([0, 1], dtype=int64), array([39, 38], dtype=int64))\n"
          ]
        }
      ],
      "source": [
        "# Preparing the training and testing dataframes\n",
        "\n",
        "train_df,test_df,train_labels,test_labels=traintest_split(df_all_res,labels_all_res)\n",
        "print('Number of samples within each class:\\t\\t\\t\\t\\t ' , np.unique(labels_all_res, return_counts=True))\n",
        "print('Number of samples within each class in training dataframe (stratified):\\t ' , np.unique(train_labels, return_counts=True))\n",
        "print('Number of samples within each class in testing dataframe (stratified):\\t ', np.unique(test_labels, return_counts=True))"
      ]
    },
    {
      "cell_type": "code",
      "execution_count": null,
      "metadata": {
        "id": "r88NojxClgqH",
        "outputId": "d424c1fe-ee6e-4136-9afa-40e1cee2d87c"
      },
      "outputs": [
        {
          "name": "stdout",
          "output_type": "stream",
          "text": [
            "Time taken to perform RFE = 2.0736364761988324 minutes\n",
            "Number of features selected = 157\n"
          ]
        }
      ],
      "source": [
        "# Performing feature selection using Recursive Feature Elimination with Cross Validation\n",
        "\n",
        "estimator = LogisticRegression(random_state=0,solver='liblinear')\n",
        "selected_features,num_features=feature_selection_RFE(estimator,train_df,train_labels)\n",
        "print('Number of features selected =',num_features)"
      ]
    },
    {
      "cell_type": "code",
      "execution_count": null,
      "metadata": {
        "id": "f1EraYAUlgqI",
        "outputId": "f64ba49b-2ff5-4d3d-e014-007f5e2eb42a"
      },
      "outputs": [
        {
          "name": "stdout",
          "output_type": "stream",
          "text": [
            "(177, 157)\n",
            "(77, 157)\n",
            "['flp', 'acsA_2', 'trpC', 'dtpT', 'garK_2', 'arcR', 'mrpB', 'isdA', 'agrA', 'graR_1', 'ydjZ', 'prkC', 'tcyP', 'ugpQ', 'trmB', 'pfbA', 'coaD', 'adh', 'pepA_1', 'spsB_1', 'yfbR', 'orr', 'nudF', 'yfcJ', 'plsY', 'ymcA', 'mnaA_1', 'fnbB', 'ssl3', 'clpB', 'sdhC', 'oppF_1', 'murB', 'comEA', 'bacC', 'lysP_2', 'clfB', 'dapE', 'ypjD', 'pitA', 'splB', 'menH_2', 'treP_2', 'nixA', 'nikD', 'murJ', 'rpsN2', 'entS', 'tagX', 'ppaC', 'rpsT', 'tetA', 'hdfR_2', 'apt', 'nusB', 'azoR', 'lipA_1', 'dgk', 'addB', 'purC', 'cynR', 'kdpA', 'ftsK', 'gabR', 'mutY', 'hld', 'hlb_2', 'queE_1', 'odhA', 'opuD_3', 'spo0J', 'mscS', 'plc', 'grsB', 'sdrM', 'sarX', 'kimA', 'tkt', 'gph', 'thyA', 'tcaA', 'dnaE', 'isdB', 'trmK', 'sdrE', 'potB', 'malP', 'yfkN', 'nikA', 'putP', 'coiA', 'sarU', 'rnhA', 'lolD_1', 'mutS_2', 'tal', 'bcrR', 'pre_1', 'pre_2', 'cadC', 'bcrA_1', 'aphA', 'hlgC_2', 'epiD', 'essG_1', 'splC', 'ggt', 'tet(K)', 'arsC', 'ssl1', 'ecfT', 'norB_4', 'splF', 'satA', 'nisC', 'agrB', 'emp', 'essG_5', 'ebh_1', 'licR', 'nisB', 'fnbA', 'cof_1', 'aacA-aphD', 'hsdM_1', 'smc_1', 'cna', \"ermC'\", 'xerC_6', 'dut', 'bceB_2', 'ssbA_4', 'yoaA', 'cdnE', 'icaC_2', 'dppB', 'hhaIM', 'sau3AIR', 'yfmC_2', 'metQ', 'lytO', 'bin3_1', 'ssl3_2', 'entG', 'lpl2_7', 'xerC_4', 'repD', 'ebh', 'ycjY', 'oppF', 'xerD_3', 'ywlC_2', 'mcrB', 'tsaC', 'yfiT', 'ssl7', 'entC2']\n"
          ]
        }
      ],
      "source": [
        "# Retaining the selected features in the training and testing dataframes\n",
        "\n",
        "train_df,test_df,features_to_keep = retain_selected_features(train_df,test_df,selected_features)\n",
        "\n",
        "print(train_df.shape)\n",
        "print(test_df.shape)\n",
        "print(features_to_keep)"
      ]
    },
    {
      "cell_type": "code",
      "execution_count": null,
      "metadata": {
        "id": "gVbSrJoulgqI",
        "outputId": "42e2fa30-9440-4e3b-957f-12ce22286aac"
      },
      "outputs": [
        {
          "name": "stdout",
          "output_type": "stream",
          "text": [
            "Baseline ACCURACY = 0.9774603174603174\n",
            "Baseline F1 SCORE = 0.9774423774423774\n",
            "Baseline ROC AUC = 0.9986928104575163\n"
          ]
        }
      ],
      "source": [
        "# Determining baseline classification scores before hyperparameter tuning\n",
        "\n",
        "estimator = LogisticRegression(random_state=0)\n",
        "\n",
        "baseline_accuracy,baseline_f1,baseline_roc_auc=baseline_scores(estimator,train_df,train_labels)\n",
        "print(f'Baseline ACCURACY = {baseline_accuracy}')\n",
        "print(f'Baseline F1 SCORE = {baseline_f1}')\n",
        "print(f'Baseline ROC AUC = {baseline_roc_auc}')"
      ]
    },
    {
      "cell_type": "code",
      "execution_count": null,
      "metadata": {
        "id": "SK0J2fhklgqI",
        "outputId": "9c7d22e2-0968-485b-cbb9-f00282dd95d8"
      },
      "outputs": [
        {
          "name": "stdout",
          "output_type": "stream",
          "text": [
            "Best parameters chosen by grid search:  {'C': 0.01, 'dual': False, 'penalty': None, 'solver': 'sag'}\n",
            "\n",
            "Having an average ACCURACY 0.9774603174603174\n",
            "\t\t  F1 SCORE 0.9774423774423774\n",
            "\t\t  ROC AUC  0.9986928104575163\n"
          ]
        }
      ],
      "source": [
        "# Performing hyperparameter tuning using GridSearchCV\n",
        "\n",
        "param_grid = {\n",
        "    'C': [0.01,0.1,1,10,100],\n",
        "    'solver': ['newton-cg','liblinear','lbfgs', 'newton-cholesky', 'sag', 'saga'],\n",
        "    'penalty':['l1', 'l2', 'elasticnet', None],\n",
        "    'dual':[True,False]}\n",
        "\n",
        "warnings.filterwarnings('ignore')\n",
        "\n",
        "estimator = LogisticRegression(random_state=0)\n",
        "best_params,best_model=hyperparameter_tuning(estimator,param_grid,train_df,train_labels)\n",
        "\n",
        "print('Best parameters chosen by grid search: ', best_params)\n",
        "\n",
        "accuracies,f1_scores,roc_aucs = tuned_scores(best_model,train_df,train_labels)\n",
        "print(f'\\nHaving an average ACCURACY {accuracies.mean()}\\n\\t\\t  F1 SCORE {f1_scores.mean()}\\n\\t\\t  ROC AUC  {roc_aucs.mean()}')"
      ]
    },
    {
      "cell_type": "code",
      "execution_count": null,
      "metadata": {
        "id": "09Atg9UelgqJ",
        "outputId": "49b698db-7d6f-4ef8-a1e3-b74e6cb62334"
      },
      "outputs": [
        {
          "name": "stdout",
          "output_type": "stream",
          "text": [
            "              precision    recall  f1-score   support\n",
            "\n",
            "           0       0.79      0.79      0.79        39\n",
            "           1       0.79      0.79      0.79        38\n",
            "\n",
            "    accuracy                           0.79        77\n",
            "   macro avg       0.79      0.79      0.79        77\n",
            "weighted avg       0.79      0.79      0.79        77\n",
            "\n"
          ]
        },
        {
          "data": {
            "image/png": "[encoded data removed]",
            "text/plain": [
              "<Figure size 640x480 with 2 Axes>"
            ]
          },
          "metadata": {},
          "output_type": "display_data"
        }
      ],
      "source": [
        "# Testing the tuned binary classifier on testing data\n",
        "\n",
        "testing(best_model,test_df,test_labels)"
      ]
    },
    {
      "cell_type": "code",
      "execution_count": null,
      "metadata": {
        "id": "x5C0Fo-XHRCt",
        "outputId": "46555d98-e676-4cf1-95f5-83ca28d37337"
      },
      "outputs": [
        {
          "name": "stdout",
          "output_type": "stream",
          "text": [
            "Accuracy:       0.7922077922077922\n",
            "Precision:      0.7894736842105263\n",
            "Recall:         0.7894736842105263\n",
            "F1 Score:       0.7894736842105263\n",
            "ROC-AUC Score:  0.8994601889338731\n",
            "\n"
          ]
        },
        {
          "data": {
            "image/png": "[encoded data removed]",
            "text/plain": [
              "<Figure size 800x600 with 1 Axes>"
            ]
          },
          "metadata": {},
          "output_type": "display_data"
        }
      ],
      "source": [
        "# Evaluating the binary classifier performance using various metrics & plotting the ROC curve\n",
        "\n",
        "accuracy,precision,recall,f1,roc_auc=binary_classifier_scores(best_model,test_df,test_labels)\n",
        "\n",
        "print(f'Accuracy:       {accuracy}')\n",
        "print(f'Precision:      {precision}')\n",
        "print(f'Recall:         {recall}')\n",
        "print(f'F1 Score:       {f1}')\n",
        "print(f'ROC-AUC Score:  {roc_auc}\\n')\n",
        "\n",
        "plot_binary_roc_curve(best_model,test_df,test_labels)"
      ]
    },
    {
      "cell_type": "markdown",
      "metadata": {
        "id": "rYLRSGV2HRCt"
      },
      "source": [
        "## Multi-class classifier"
      ]
    },
    {
      "cell_type": "code",
      "execution_count": null,
      "metadata": {
        "id": "Wx1XY4QdHRCu",
        "outputId": "33a70665-3df3-45b5-bfb0-c5942a560b8c"
      },
      "outputs": [
        {
          "name": "stdout",
          "output_type": "stream",
          "text": [
            "       rpmJ  rpsJ  rplB  rpmE2  rpsG  rplO  rpsF  rplP  rplN  atpE  ...  \\\n",
            "AA1       1     1     1      1     1     1     1     1     1     1  ...   \n",
            "AA100     1     1     1      1     1     1     1     1     1     1  ...   \n",
            "AA102     1     1     1      1     1     1     1     1     1     1  ...   \n",
            "AA103     1     1     1      1     1     1     1     1     1     1  ...   \n",
            "AA11      1     1     1      1     1     1     1     1     1     1  ...   \n",
            "\n",
            "       group_9986  group_9987  group_9990  group_9992  group_9994  group_9996  \\\n",
            "AA1             0           0           0           0           0           0   \n",
            "AA100           0           0           0           0           0           0   \n",
            "AA102           0           0           0           0           0           0   \n",
            "AA103           0           0           0           0           0           0   \n",
            "AA11            0           0           0           0           0           0   \n",
            "\n",
            "       group_9997  ydjI  group_9999  Label  \n",
            "AA1             0     0           0      3  \n",
            "AA100           0     0           0      3  \n",
            "AA102           0     0           0      3  \n",
            "AA103           0     0           0      2  \n",
            "AA11            0     0           0      1  \n",
            "\n",
            "[5 rows x 11261 columns]\n",
            "(178, 11261)\n",
            "(178,)\n"
          ]
        }
      ],
      "source": [
        "# Fetching the gene presence/absence dataframe with multiclass labels\n",
        "\n",
        "df_all,labels_all=fetch_all_df_and_multilabels()\n",
        "\n",
        "print(df_all.head())\n",
        "print(df_all.shape)\n",
        "print(labels_all.shape)"
      ]
    },
    {
      "cell_type": "code",
      "execution_count": null,
      "metadata": {
        "id": "v8hgyl5YHRCu",
        "outputId": "e63da252-634e-4a61-b56b-bfeed5625eaf"
      },
      "outputs": [
        {
          "name": "stdout",
          "output_type": "stream",
          "text": [
            "       rpmJ  rpsJ  rplB  rpmE2  rpsG  rplO  rpsF  rplP  rplN  atpE  ...  \\\n",
            "AA1       1     1     1      1     1     1     1     1     1     1  ...   \n",
            "AA100     1     1     1      1     1     1     1     1     1     1  ...   \n",
            "AA102     1     1     1      1     1     1     1     1     1     1  ...   \n",
            "AA103     1     1     1      1     1     1     1     1     1     1  ...   \n",
            "AA11      1     1     1      1     1     1     1     1     1     1  ...   \n",
            "\n",
            "       splD_1  cysC  eutB  lepB  flgE  purA_2  greA_2  pdp_2  ydjI  Label  \n",
            "AA1         0     0     0     0     0       0       0      0     0      3  \n",
            "AA100       0     0     0     0     0       0       0      0     0      3  \n",
            "AA102       0     0     0     0     0       0       0      0     0      3  \n",
            "AA103       0     0     0     0     0       0       0      0     0      2  \n",
            "AA11        0     0     0     0     0       0       0      0     0      1  \n",
            "\n",
            "[5 rows x 2570 columns]\n",
            "(178, 2570)\n"
          ]
        }
      ],
      "source": [
        "# Removing all hypothetical genes having prefix \"group_\"\n",
        "\n",
        "df_all=remove_group_genes(df_all)\n",
        "print(df_all.head())\n",
        "print(df_all.shape)"
      ]
    },
    {
      "cell_type": "code",
      "execution_count": null,
      "metadata": {
        "id": "el-n8qOJHRCu",
        "outputId": "c75a821e-6d6c-4f24-b3c6-c7d11d83f9fa"
      },
      "outputs": [
        {
          "name": "stdout",
          "output_type": "stream",
          "text": [
            "Class Distribution After RandomOverSampler:\n",
            "Label\n",
            "3    74\n",
            "2    74\n",
            "1    74\n",
            "0    74\n",
            "Name: count, dtype: int64\n"
          ]
        }
      ],
      "source": [
        "# Performing SMOTE oversampling of the minor classes to the majority class\n",
        "\n",
        "df_all_res,labels_all_res=SMOTE_oversampling(df_all,labels_all)\n",
        "\n",
        "class_counts_resampled = pd.Series(labels_all_res).value_counts()\n",
        "print(f\"Class Distribution After RandomOverSampler:\\n{class_counts_resampled}\")"
      ]
    },
    {
      "cell_type": "code",
      "execution_count": null,
      "metadata": {
        "id": "gmSOiD69HRCu",
        "outputId": "290561de-11ad-43fe-edab-d6f7418840bb"
      },
      "outputs": [
        {
          "name": "stdout",
          "output_type": "stream",
          "text": [
            "Number of samples within each class:\t\t\t\t\t  (array([0, 1, 2, 3], dtype=int64), array([74, 74, 74, 74], dtype=int64))\n",
            "Number of samples within each class in training dataframe (stratified):\t  (array([0, 1, 2, 3], dtype=int64), array([51, 52, 52, 52], dtype=int64))\n",
            "Number of samples within each class in testing dataframe (stratified):\t  (array([0, 1, 2, 3], dtype=int64), array([23, 22, 22, 22], dtype=int64))\n"
          ]
        }
      ],
      "source": [
        "# Preparing the training and testing dataframes\n",
        "\n",
        "train_df,test_df,train_labels,test_labels=traintest_split(df_all_res,labels_all_res)\n",
        "print('Number of samples within each class:\\t\\t\\t\\t\\t ' , np.unique(labels_all_res, return_counts=True))\n",
        "print('Number of samples within each class in training dataframe (stratified):\\t ' , np.unique(train_labels, return_counts=True))\n",
        "print('Number of samples within each class in testing dataframe (stratified):\\t ', np.unique(test_labels, return_counts=True))"
      ]
    },
    {
      "cell_type": "code",
      "execution_count": null,
      "metadata": {
        "id": "gbAkRA9DHRCu",
        "outputId": "82002a86-d5fc-4eff-c4a4-ea06b3c57540"
      },
      "outputs": [
        {
          "name": "stdout",
          "output_type": "stream",
          "text": [
            "Time taken to perform RFE = 6.263292777538299 minutes\n",
            "Number of features selected = 435\n"
          ]
        }
      ],
      "source": [
        "# Performing feature selection using Recursive Feature Elimination with Cross Validation\n",
        "\n",
        "estimator = LogisticRegression(random_state=0,solver='liblinear')\n",
        "selected_features,num_features=feature_selection_RFE(estimator,train_df,train_labels)\n",
        "print('Number of features selected =',num_features)"
      ]
    },
    {
      "cell_type": "code",
      "execution_count": null,
      "metadata": {
        "id": "FSe5R-5yHRCv",
        "outputId": "d956a48e-7faa-415c-a6be-503a17859061"
      },
      "outputs": [
        {
          "name": "stdout",
          "output_type": "stream",
          "text": [
            "(207, 435)\n",
            "(89, 435)\n",
            "['pyrF', 'cdaA', 'rocD2_1', 'sglT', 'pbuG', 'fhs', 'acsA_2', 'scpB', 'crtM', 'narX', 'lepA', 'ptsI', 'msrA1', 'cidB', 'rlmH', 'nrtD', 'dtpT', 'msrA2', 'lip2_2', 'yciC_1', 'bioK', 'secE', 'acnA', 'pyrC', 'tarB', 'metP_2', 'rpmF', 'clpL', 'gcvPB', 'glpQ_1', 'thiK', 'glnR', 'codY', 'garK_2', 'hchA', 'dtd', 'purH', 'mcsB', 'mrpB', 'ydbM', 'iolS', 'rimM', 'srrA', 'mecA_2', 'ribE', 'arcB', 'lysC', 'gcvT', 'rsuA', 'isdA', 'agrA', 'purQ', 'ydjZ', 'scmP_3', 'rsbW', 'groS', 'zapA', 'iscS_2', 'pepF1_1', 'nrgA', 'glcK', 'ytpA', 'tcyP', 'phnE_1', 'pitA_3', 'rplGA', 'yhaN', 'rluB', 'lipM', 'nreB', 'ugpQ', 'fdhD', 'tagU_2', 'tycC', 'trmB', 'dltA', 'alsS', 'rnmV_2', 'oppC', 'pfbA', 'yfiZ_2', 'adh', 'ligA', 'yqgN', 'map_1', 'spsB_1', 'dnaG', 'hemW', 'bioY', 'sirB', 'orr', 'tig', 'yoeB', 'mecA_1', 'mrcA', 'ftsY', 'yfcJ', 'mprF', 'ymcA', 'mnaA_1', 'recU', 'clpB', 'sdhC', 'rbfA', 'efeU', 'potD', 'priA', 'nrdE', 'yitU', 'crtN', 'pycA', 'azo1', 'oppF_1', 'ecfT_2', 'proS', 'crcB_1', 'fepC', 'comEA', 'mrpE', 'rnhB', 'pnbA', 'topB', 'clfB', 'metQ_1', 'yokF', 'dapE', 'cntI', 'bshC', 'queF', 'ypjD', 'yclP', 'yclO', 'yitJ', 'glvR', 'nudG', 'pitA', 'rpsU', 'splB', 'sucC', 'menH_2', 'treP_2', 'femA_1', 'ugtP', 'argR_1', 'baiN', 'wbnH', 'gtfA_1', 'nixA', 'capD', 'nikD', 'murJ', 'yveA', 'dppC', 'uhpT', 'ydaF', 'mhqA_2', 'ypcP', 'isdE', 'thiI', 'murD', 'entS', 'dprA', 'mnhD1_1', 'fetB', 'sarR', 'rfbX', 'deoC2', 'cycA_1', 'yfhA_2', 'tagX', 'ppaC', 'rpsT', 'aldC_2', 'tetA', 'kdpB', 'hdfR_2', 'rhaS_1', 'hisC_3', 'map_3', 'purL', 'tagO', 'truB', 'pstB3', 'tarS', 'ftsH', 'malF', 'ilvA', 'azoR', 'lipA_1', 'dgk', 'sigS', 'addB', 'araB', 'rsbU', 'ssl7_2', 'lip2', 'hsdR', 'purC', 'ghrB_2', 'ribU', 'cynR', 'recO', 'malL', 'hrcA', 'kdpA', 'cls_1', 'bglA', 'mntR', 'selX', 'yhaI', 'mdtH', 'ftsK', 'desK', 'gabR', 'mutY', 'arsB', 'fhuD_1', 'nanA', 'hld', 'ktrB_1', 'uvrC', 'tagH_2', 'engB', 'hutH', 'lgt', 'hlb_2', 'phrB', 'hslU', 'yflS', 'mepA', 'opuD_3', 'ydaG', 'vraS', 'plc', 'grsB', 'irtA', 'lukDv', 'ecfT_1', 'pchA', 'cls_2', 'manR', 'kimA', 'sdrD', 'yydI', 'arlR', 'opuCB', 'yydJ', 'pglF', 'gph', 'adhE', 'thyA', 'bceB_3', 'yclN', 'tcaA', 'dnaE', 'ysdC_2', 'isdB', 'aroB', 'trmK', 'sdrE', 'sbcD', 'malP', 'essB', 'pgsA', 'yjdF', 'hisZ', 'nikA', 'tagG', 'sarT', 'recJ', 'oatA_2', 'ywqG', 'putP', 'coiA', 'ythA', 'catD', 'sarU', 'pheT', 'rnhA', 'ricR', 'rhaR', 'sirC', 'lolD_1', 'efp', 'ilvD', 'sraP', 'gloB', 'ssbA_3', 'rqcH', 'tal', 'miaB', 'ettA', 'yafV', 'ssp', 'scn_3', 'gsiA', 'bcrR', 'ywlC_1', 'pre_1', 'blaZ', 'ktrB', 'nirC', 'pre_2', 'comEC', 'clfA', 'qorB', 'flr', 'gamR', 'cadC', 'ctaA', 'ktrB_2', 'essG_3', 'hylB', 'ssl7_1', 'cntE', 'hsdM_2', 'appA', 'fmtA', 'bin3', 'lpl2_4', 'glpE', 'blaI', 'hlgC_2', 'epiD', 'entA_1', 'essG_1', 'splC', 'ggt', 'recQ_1', 'ssl4_1', 'icaB', 'tet(K)', 'clpP_1', 'arsC', 'splA', 'hsdM', 'fhuD_2', 'gltB_2', 'mecR1', 'ssl1', 'ecfT', 'norB_4', 'xerC_2', 'splF', 'sak', 'uvrB_1', 'satA', 'nisC', 'macB', 'dus', 'sdrC', 'blaR1-2', 'lukDv_1', 'agrB', 'essD', 'gltR', 'entA_2', 'emp', 'essG_5', 'ebh_1', 'fhuD', 'tarM', 'licR', 'prmC_1', 'fnbA', 'yofA', 'infB_2', 'aacA-aphD', 'splE', 'hsdM_1', 'pnp_2', 'smc_1', 'bcrA', 'cadA', 'cna', \"ermC'\", 'xerC_6', 'bceB_2', 'xerD_4', 'yoaA', 'cdnE', 'uvrB_2', 'dppB', 'yfmC_2', 'xerC_5', 'uppP_2', 'bcrA_4', 'bcrB', 'entG', 'dppD', 'lpl2_7', 'xerC_4', 'ddpF', 'repD', 'entD', 'ycjY', 'pre', 'cat', 'xerD_3', 'ywlC_2', 'yvgN_3', 'chp', 'IMPDH_2', 'mcrB', 'ebhA', 'entA', 'leuA_2', 'norB_5', 'lpl2', 'thyA_2', 'MENG', 'acuI', 'hly_2', 'lpl2_6', 'ebhA_1', 'etb', 'aacA-aphD_2', 'entC2', 'topB_2', 'splE_1', 'strA', 'icaB_2', 'dnaN_2', 'hslV_2', 'purN_2', 'chbA', 'pxpA_2', 'hrtA_3', 'tarD_2', 'radA_2', 'mfd_2', 'essG_9', 'essG_8', 'accC_1', 'nagB_3']\n"
          ]
        }
      ],
      "source": [
        "# Retaining the selected features in the training and testing dataframes\n",
        "\n",
        "train_df,test_df,features_to_keep = retain_selected_features(train_df,test_df,selected_features)\n",
        "\n",
        "print(train_df.shape)\n",
        "print(test_df.shape)\n",
        "print(features_to_keep)"
      ]
    },
    {
      "cell_type": "code",
      "execution_count": null,
      "metadata": {
        "id": "mSbLvDJCHRCv",
        "outputId": "d8006f0e-3d2e-44e3-ab6c-e3a50cbf81a1"
      },
      "outputs": [
        {
          "name": "stdout",
          "output_type": "stream",
          "text": [
            "Baseline ACCURACY = 0.8166085946573751\n",
            "Baseline F1 SCORE = 0.8185542717078093\n",
            "Baseline ROC AUC = nan\n"
          ]
        }
      ],
      "source": [
        "# Determining baseline classification scores before hyperparameter tuning\n",
        "\n",
        "estimator = LogisticRegression(random_state=0)\n",
        "\n",
        "baseline_accuracy,baseline_f1,baseline_roc_auc=baseline_scores(estimator,train_df,train_labels)\n",
        "print(f'Baseline ACCURACY = {baseline_accuracy}')\n",
        "print(f'Baseline F1 SCORE = {baseline_f1}')\n",
        "print(f'Baseline ROC AUC = {baseline_roc_auc}')"
      ]
    },
    {
      "cell_type": "code",
      "execution_count": null,
      "metadata": {
        "id": "_STOkG6rHRCv",
        "outputId": "5973accf-c839-41e2-ba0e-136b885b647d"
      },
      "outputs": [
        {
          "name": "stdout",
          "output_type": "stream",
          "text": [
            "Best parameters chosen by grid search:  {'C': 100, 'dual': False, 'penalty': 'l2', 'solver': 'lbfgs'}\n",
            "\n",
            "Having an average ACCURACY 0.8551684088269453\n",
            "\t\t  F1 SCORE 0.8567924962759079\n",
            "\t\t  ROC AUC  nan\n"
          ]
        }
      ],
      "source": [
        "# Performing hyperparameter tuning using GridSearchCV\n",
        "\n",
        "param_grid = {\n",
        "    'C': [0.01,0.1,1,10,100],\n",
        "    'solver': ['newton-cg','liblinear','lbfgs', 'newton-cholesky', 'sag', 'saga'],\n",
        "    'penalty':['l1', 'l2', 'elasticnet', None],\n",
        "    'dual':[True,False]}\n",
        "\n",
        "warnings.filterwarnings('ignore')\n",
        "\n",
        "estimator = LogisticRegression(random_state=0)\n",
        "best_params,best_model=hyperparameter_tuning(estimator,param_grid,train_df,train_labels)\n",
        "\n",
        "print('Best parameters chosen by grid search: ', best_params)\n",
        "accuracies,f1_scores,roc_aucs = tuned_scores(best_model,train_df,train_labels)\n",
        "print(f'\\nHaving an average ACCURACY {accuracies.mean()}\\n\\t\\t  F1 SCORE {f1_scores.mean()}\\n\\t\\t  ROC AUC  {roc_aucs.mean()}')"
      ]
    },
    {
      "cell_type": "code",
      "execution_count": null,
      "metadata": {
        "id": "wwK3mz_QHRCv",
        "outputId": "c0ec95cb-3952-418d-ce6a-4b02154611dd"
      },
      "outputs": [
        {
          "name": "stdout",
          "output_type": "stream",
          "text": [
            "              precision    recall  f1-score   support\n",
            "\n",
            "           0       0.96      0.96      0.96        23\n",
            "           1       0.65      0.77      0.71        22\n",
            "           2       0.71      0.55      0.62        22\n",
            "           3       0.70      0.73      0.71        22\n",
            "\n",
            "    accuracy                           0.75        89\n",
            "   macro avg       0.75      0.75      0.75        89\n",
            "weighted avg       0.76      0.75      0.75        89\n",
            "\n"
          ]
        },
        {
          "data": {
            "image/png": "[encoded data removed]",
            "text/plain": [
              "<Figure size 640x480 with 2 Axes>"
            ]
          },
          "metadata": {},
          "output_type": "display_data"
        }
      ],
      "source": [
        "# Testing the tuned multiclass classifier on testing data\n",
        "\n",
        "testing(best_model,test_df,test_labels)"
      ]
    },
    {
      "cell_type": "code",
      "execution_count": null,
      "metadata": {
        "id": "QEPY2zDAHRCv",
        "outputId": "1f965075-2b24-44a0-e91e-530238b80204"
      },
      "outputs": [
        {
          "name": "stdout",
          "output_type": "stream",
          "text": [
            "Accuracy:       0.7528089887640449\n",
            "Precision:      0.7529756049577022\n",
            "Recall:         0.7504940711462451\n",
            "F1 Score:       0.7478376997398737\n",
            "ROC-AUC Score:  0.9175810669970306\n",
            "\n"
          ]
        },
        {
          "data": {
            "image/png": "[encoded data removed]",
            "text/plain": [
              "<Figure size 800x600 with 1 Axes>"
            ]
          },
          "metadata": {},
          "output_type": "display_data"
        }
      ],
      "source": [
        "# Evaluating the multiclass classifier performance using various metrics & plotting the ROC curve\n",
        "\n",
        "accuracy,precision,recall,f1,roc_auc=multiclass_classifier_scores(best_model,test_df,test_labels)\n",
        "\n",
        "print(f'Accuracy:       {accuracy}')\n",
        "print(f'Precision:      {precision}')\n",
        "print(f'Recall:         {recall}')\n",
        "print(f'F1 Score:       {f1}')\n",
        "print(f'ROC-AUC Score:  {roc_auc}\\n')\n",
        "\n",
        "plot_multiclass_roc_curve(best_model,test_df,test_labels)"
      ]
    }
  ],
  "metadata": {
    "colab": {
      "collapsed_sections": [
        "QbcfkBEplinf",
        "cbzS_IuPlrDC"
      ],
      "provenance": []
    },
    "kernelspec": {
      "display_name": "Python 3",
      "language": "python",
      "name": "python3"
    },
    "language_info": {
      "codemirror_mode": {
        "name": "ipython",
        "version": 3
      },
      "file_extension": ".py",
      "mimetype": "text/x-python",
      "name": "python",
      "nbconvert_exporter": "python",
      "pygments_lexer": "ipython3",
      "version": "3.13.2"
    }
  },
  "nbformat": 4,
  "nbformat_minor": 0
}
